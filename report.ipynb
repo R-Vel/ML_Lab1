{
 "cells": [
  {
   "cell_type": "code",
   "execution_count": 1,
   "id": "9e226baf-fe4c-430b-b357-98eab66633d8",
   "metadata": {
    "execution": {
     "iopub.execute_input": "2025-09-29T03:39:50.782619Z",
     "iopub.status.busy": "2025-09-29T03:39:50.780612Z",
     "iopub.status.idle": "2025-09-29T03:39:51.190576Z",
     "shell.execute_reply": "2025-09-29T03:39:51.181630Z",
     "shell.execute_reply.started": "2025-09-29T03:39:50.782409Z"
    }
   },
   "outputs": [
    {
     "data": {
      "text/html": [
       "<script src=\"https://cdnjs.cloudflare.com/ajax/libs/jquery/2.0.3/jquery.min.js \"></script><script>\n",
       "code_show=true; \n",
       "function code_toggle() {\n",
       "if (code_show){\n",
       "$('div.jp-CodeCell > div.jp-Cell-inputWrapper').hide();\n",
       "} else {\n",
       "$('div.jp-CodeCell > div.jp-Cell-inputWrapper').show();\n",
       "}\n",
       "code_show = !code_show\n",
       "} \n",
       "$( document ).ready(code_toggle);</script><form action=\"javascript:code_toggle()\"><input type=\"submit\" value=\"Click here to toggle on/off the raw code.\"></form>\n"
      ],
      "text/plain": [
       "<IPython.core.display.HTML object>"
      ]
     },
     "execution_count": 1,
     "metadata": {},
     "output_type": "execute_result"
    }
   ],
   "source": [
    "from IPython.display import HTML\n",
    "HTML('''<script src=\"https://cdnjs.cloudflare.com/ajax/libs/jquery/2.0.3/jquery.min.js \"></script><script>\n",
    "code_show=true; \n",
    "function code_toggle() {\n",
    "if (code_show){\n",
    "$('div.jp-CodeCell > div.jp-Cell-inputWrapper').hide();\n",
    "} else {\n",
    "$('div.jp-CodeCell > div.jp-Cell-inputWrapper').show();\n",
    "}\n",
    "code_show = !code_show\n",
    "} \n",
    "$( document ).ready(code_toggle);</script><form action=\"javascript:code_toggle()\"><input type=\"submit\" value=\"Click here to toggle on/off the raw code.\"></form>\n",
    "''')"
   ]
  },
  {
   "cell_type": "code",
   "execution_count": 11,
   "id": "3e371bed",
   "metadata": {
    "execution": {
     "iopub.execute_input": "2025-09-30T03:36:19.675845Z",
     "iopub.status.busy": "2025-09-30T03:36:19.673517Z",
     "iopub.status.idle": "2025-09-30T03:36:20.007392Z",
     "shell.execute_reply": "2025-09-30T03:36:20.000764Z",
     "shell.execute_reply.started": "2025-09-30T03:36:19.675590Z"
    }
   },
   "outputs": [
    {
     "name": "stdout",
     "output_type": "stream",
     "text": [
      "The autoreload extension is already loaded. To reload it, use:\n",
      "  %reload_ext autoreload\n"
     ]
    }
   ],
   "source": [
    "import pandas as pd\n",
    "import numpy as np\n",
    "import matplotlib.pyplot as plt\n",
    "import seaborn as sns\n",
    "from collections import Counter\n",
    "\n",
    "from sklearn.model_selection import (\n",
    "    train_test_split,\n",
    "    GridSearchCV,\n",
    "    RandomizedSearchCV,\n",
    "    StratifiedKFold\n",
    ")\n",
    "\n",
    "from sklearn.ensemble import RandomForestClassifier\n",
    "from sklearn.utils.class_weight import compute_class_weight\n",
    "from sklearn.metrics import (\n",
    "    precision_score,\n",
    "    recall_score,\n",
    "    f1_score,\n",
    "    confusion_matrix,\n",
    "    classification_report,\n",
    "    average_precision_score,\n",
    "    make_scorer\n",
    ")\n",
    "\n",
    "from imblearn.pipeline import Pipeline\n",
    "from imblearn.over_sampling import SMOTE, ADASYN, RandomOverSampler\n",
    "from imblearn.under_sampling import TomekLinks, RandomUnderSampler\n",
    "\n",
    "from model import FraudDetector\n",
    "\n",
    "# Notebook autoreload\n",
    "%load_ext autoreload\n",
    "%autoreload 2\n",
    "\n",
    "# For reproducibility\n",
    "RANDOM_STATE = 39"
   ]
  },
  {
   "cell_type": "code",
   "execution_count": 3,
   "id": "25f15d1b-35f2-4f6b-83f1-8a22b89fcdf8",
   "metadata": {
    "execution": {
     "iopub.execute_input": "2025-09-29T01:50:01.273667Z",
     "iopub.status.busy": "2025-09-29T01:50:01.271518Z",
     "iopub.status.idle": "2025-09-29T01:50:25.100533Z",
     "shell.execute_reply": "2025-09-29T01:50:25.094093Z",
     "shell.execute_reply.started": "2025-09-29T01:50:01.273502Z"
    }
   },
   "outputs": [],
   "source": [
    "data = pd.read_csv(\"historical.csv\")\n",
    "target = data[\"outcome\"]"
   ]
  },
  {
   "cell_type": "markdown",
   "id": "6228657d-92f3-401d-a18b-da1858286a8c",
   "metadata": {},
   "source": [
    "<div style=\"\n",
    "    background: url('https://imgur.com/gtF7pEr.png') no-repeat center center; \n",
    "    background-size: cover;\n",
    "    height: 1000px;\n",
    "    display: flex;\n",
    "    flex-direction: column;\n",
    "    justify-content: center;\n",
    "    align-items: center;\n",
    "    text-align: center;\n",
    "    color: white;\n",
    "    padding: 20px;\n",
    "\">\n",
    "    <h1 style=\"font-size: 50px; font-weight: bold; margin: 10px;\"></h1>\n",
    "    <h2 style=\"font-size: 30px; font-style: italic; margin: 10px;\"></h2>\n",
    "</div>"
   ]
  },
  {
   "cell_type": "markdown",
   "id": "5b94b488-56e2-4937-afb7-d5c6441dea0a",
   "metadata": {},
   "source": [
    "<div style=\"background-color: #215880; padding: 10px; border-radius: 5px;\">\n",
    "    <h3 style=\"color: #e6f1fa; font-size: 30px; font-weight: bold; margin: 10px;\">ABSTRACT</h3>\n",
    "</div>"
   ]
  },
  {
   "cell_type": "markdown",
   "id": "3870d435-8cbe-4eb7-940d-11e299c5b59b",
   "metadata": {},
   "source": [
    "<div style=\"font-family: 'Poppins', sans-serif; font-size: 15px; border-bottom: 2px solid #2a475e; padding-bottom: 15px\">\n",
    "<p style=\"line-height: 1.5; text-align: justify\">\n",
    "Figure 13  illustrates the top 20 Steam genres by frequency without outliers, offering insight into the dominant content categories within the platform. \"Indie\" leads as the most common genre, once again emphasizing the importance and volume of independently developed games on Steam. It is followed closely by \"Casual,\" \"Action,\" and \"Adventure,\" all of which suggest a strong focus on approachable gameplay, fast-paced mechanics, and story-driven exploration. Mid-ranking genres such as \"Simulation,\" \"Strategy,\" and \"RPG\" also indicate a substantial share of games that cater to players seeking immersive and strategic experiences. Toward the bottom of the list, genres like \"Utilities,\" \"Education,\" and \"Video Production\" appear far less frequently, pointing to their niche status in the gaming ecosystem. Overall, this figure highlights the prevailing trends in genre popularity on Steam, where creative independence and accessible gameplay remain central to both developer output and player interest.\n",
    "</p>\n",
    "</div>\n",
    "\n",
    "<div style=\"border-bottom: 1px solid #b6c6de; box-shadow: 0px 1px 0px #66c0f4; padding-bottom: 7px;\">\n",
    "</div>"
   ]
  },
  {
   "cell_type": "markdown",
   "id": "8bab84be-88fb-4224-9d1b-0d71fb0d4555",
   "metadata": {
    "jp-MarkdownHeadingCollapsed": true
   },
   "source": [
    "<div style=\"background-color: #215880; padding: 10px; border-radius: 5px;\">\n",
    "    <h3 style=\"color: #e6f1fa; font-size: 30px; font-weight: bold; margin: 10px;\">INTRODUCTION</h3>\n",
    "</div>"
   ]
  },
  {
   "cell_type": "markdown",
   "id": "fe60b479-fa09-4992-b9f4-07d5f1df5951",
   "metadata": {
    "jp-MarkdownHeadingCollapsed": true
   },
   "source": [
    "<div style=\"background-color: #215880; padding: 10px; border-radius: 5px;\">\n",
    "    <h3 style=\"color: #e6f1fa; font-size: 30px; font-weight: bold; margin: 10px;\">METHODOLOGY</h3>\n",
    "</div>"
   ]
  },
  {
   "cell_type": "markdown",
   "id": "2b208c45-0756-4d00-901b-e42d6ffbca00",
   "metadata": {},
   "source": [
    "<div style=\"text-align: center;\">\n",
    "    <img src=\"https://imgur.com/jygtZWn.png\" alt=\"Cover\" width=\"200\">\n",
    "</div>"
   ]
  },
  {
   "cell_type": "markdown",
   "id": "55655c93-ca30-4c0f-bb17-856d3b218be6",
   "metadata": {
    "jp-MarkdownHeadingCollapsed": true
   },
   "source": [
    "<div style=\"background-color: #215880; padding: 10px; border-radius: 5px;\">\n",
    "    <h3 style=\"color: #e6f1fa; font-size: 30px; font-weight: bold; margin: 10px;\">EXPLORATORY DATA ANALYSIS</h3>\n",
    "</div>"
   ]
  },
  {
   "cell_type": "code",
   "execution_count": 33,
   "id": "5aca50c5-127a-45bb-9b8b-2365c67cda46",
   "metadata": {
    "execution": {
     "iopub.execute_input": "2025-09-29T03:40:04.023228Z",
     "iopub.status.busy": "2025-09-29T03:40:04.021261Z",
     "iopub.status.idle": "2025-09-29T03:40:04.308915Z",
     "shell.execute_reply": "2025-09-29T03:40:04.303349Z",
     "shell.execute_reply.started": "2025-09-29T03:40:04.023049Z"
    },
    "jupyter": {
     "source_hidden": true
    }
   },
   "outputs": [],
   "source": [
    "value_counts = data[\"outcome\"].value_counts()\n",
    "total = len(data)\n",
    "'''\n",
    "plt.figure(figsize=(8,6))\n",
    "\n",
    "ax = sns.barplot(\n",
    "    x=value_counts.index.map({0:\"No Fraud\", 1:\"Fraud\"}), \n",
    "    y=value_counts.values, \n",
    "    hue=value_counts.index.map({0:\"No Fraud\", 1:\"Fraud\"}),  # assign hue\n",
    "    palette=\"pastel\",\n",
    ")\n",
    "'''\n",
    "\n",
    "# Add percentage labels on top of bars\n",
    "for i, count in enumerate(value_counts.values):\n",
    "    percent = 100 * count / total\n",
    "    ax.text(\n",
    "        i, count + 1000, f\"{percent:.2f}%\", \n",
    "        ha='center', va='bottom', fontsize=12, fontweight='bold'\n",
    "    )\n",
    "\n",
    "\n",
    "#plt.title(\"Value Counts of Outcome\")\n",
    "#plt.ylabel(\"Count\")\n",
    "#plt.xlabel(\"Outcome\")\n",
    "#plt.show()"
   ]
  },
  {
   "cell_type": "markdown",
   "id": "34679d18-70ff-4172-970b-80df6e166222",
   "metadata": {},
   "source": [
    "<div style=\"text-align: center;\">\n",
    "    <img src=\"https://imgur.com/jPCJSxy.png\" alt=\"Boxplots of Numerical Features\" width=\"700\">\n",
    "</div>"
   ]
  },
  {
   "cell_type": "markdown",
   "id": "89facdcb-a699-4bdf-af42-bf44a3ff0bb1",
   "metadata": {},
   "source": [
    "<div style=\"text-align: center;\">\n",
    "<p style=\"text-align: center; font-size: 14px; margin-bottom: 30px; margin-left: 100px; font-style: italic;\">\n",
    "    Figure 1. Count of fraudulent and non-fraudulent cases in data set\n",
    "</p>\n",
    "</div>"
   ]
  },
  {
   "cell_type": "markdown",
   "id": "2c659ac1-c13f-48f0-b966-96fe844c5249",
   "metadata": {},
   "source": [
    "<div style=\"font-family: 'Poppins', sans-serif; font-size: 15px; padding-bottom: 25px\">\n",
    "<p style=\"line-height: 1.5; text-align: justify\">\n",
    "Figure 1 shows the count of the number of fraudulent and non-fraudulent cases within the data set. According to the bar graph only 0.2% of the data are fradulent cases. Therefore, telling us that there is a high class imbalance. An imbalance data set leads to misleading accuracies,  biased learning, and poor generalization. In other words, it makes it harder for models to identify the patterns of the minority class. Moving forward, the team will explore different methods of countering this imbalance.\n",
    "</p>                                                                                                                                                           \n",
    "</div>\n",
    "\n",
    "<div style=\"padding-bottom: 7px;\">\n",
    "</div>"
   ]
  },
  {
   "cell_type": "code",
   "execution_count": null,
   "id": "1bac6374-c859-47f1-8487-cb0593478778",
   "metadata": {
    "jupyter": {
     "source_hidden": true
    }
   },
   "outputs": [],
   "source": [
    "corr_all = data.drop(columns=[\"tid\"]).corr()\n",
    "\n",
    "# Split by outcome\n",
    "corr_outcome1 = data[data[\"outcome\"] == 1].drop(columns=[\"tid\"]).corr()\n",
    "corr_outcome0 = data[data[\"outcome\"] == 0].drop(columns=[\"tid\"]).corr()\n",
    "\n",
    "# Plot\n",
    "#fig, axes = plt.subplots(1, 3, figsize=(24, 8))\n",
    "\n",
    "#sns.heatmap(corr_all, annot=False, cmap=\"coolwarm\", linewidths=0.5, ax=axes[0])\n",
    "axes[0].set_title(\"Correlation Heatmap (All Data)\", fontsize=14)\n",
    "\n",
    "#sns.heatmap(corr_outcome1, annot=False, cmap=\"coolwarm\", linewidths=0.5, ax=axes[1])\n",
    "axes[1].set_title(\"Correlation Heatmap (Outcome = 1)\", fontsize=14)\n",
    "\n",
    "#sns.heatmap(corr_outcome0, annot=False, cmap=\"coolwarm\", linewidths=0.5, ax=axes[2])\n",
    "axes[2].set_title(\"Correlation Heatmap (Outcome = 0)\", fontsize=14)\n",
    "\n",
    "#plt.tight_layout()\n",
    "#plt.show()"
   ]
  },
  {
   "cell_type": "markdown",
   "id": "2becd468-31f4-423f-9262-0298969ff175",
   "metadata": {},
   "source": [
    "<div style=\"text-align: center;\">\n",
    "    <img src=\"https://imgur.com/KvRIeQw.png\" alt=\"Boxplots of Numerical Features\" width=\"1600\">\n",
    "</div>"
   ]
  },
  {
   "cell_type": "markdown",
   "id": "295c311d-5214-4f2b-97ee-24b32573bcec",
   "metadata": {},
   "source": [
    "<div style=\"text-align: center;\">\n",
    "<p style=\"text-align: center; font-size: 14px; margin-bottom: 30px; margin-left: 20px; font-style: italic;\">\n",
    "    Figures 2-4. Correlation Heatmaps of PCA Components\n",
    "</p>\n",
    "</div>"
   ]
  },
  {
   "cell_type": "markdown",
   "id": "76417e28-2d05-46fd-8f31-74730885ec31",
   "metadata": {},
   "source": [
    "<div style=\"font-family: 'Poppins', sans-serif; font-size: 15px; padding-bottom: 25px\">\n",
    "<p style=\"line-height: 1.5; text-align: justify\">\n",
    "The first correlation Map shows the correlation of all features with one another, while the others show the correlation of each features for fraudulent cases and non-fraudulent cases individually. Looking at the first correlation heatmap, the various PCAs seem to have little to no correlation to one another. However, when isolating the fraud data points, it reveals the multiple PCAs have strong correlations to one another. Therefore, indicating that the iambalance data makes it difficult to identify patterns within the minority class.\n",
    "</p>                                                                                                                                                           \n",
    "</div>\n",
    "\n",
    "<div style=\"padding-bottom: 7px;\">\n",
    "</div>"
   ]
  },
  {
   "cell_type": "code",
   "execution_count": null,
   "id": "8f88cf7b-df91-40c6-8791-46b0e3d0526f",
   "metadata": {
    "jupyter": {
     "source_hidden": true
    }
   },
   "outputs": [],
   "source": [
    "subset = data[[f\"V{i}\" for i in range(1, 4)] + [\"outcome\"]]\n",
    "\n",
    "# Create pairplot\n",
    "'''\n",
    "sns.pairplot(\n",
    "    data=subset,\n",
    "    vars=[f\"V{i}\" for i in range(1, 4)],\n",
    "    hue=\"outcome\",\n",
    "    palette=\"Set1\",   # you can try \"coolwarm\", \"husl\", etc.\n",
    "    diag_kind=\"kde\",  # kde or hist for diagonal plots\n",
    "    plot_kws={'alpha':0.6, 's':15}  # make points smaller/transparent for readability\n",
    ")\n",
    "'''\n",
    "#plt.suptitle(\"Pairplot of V1–3 Colored by Outcome\", y=1.02)\n",
    "#plt.show()"
   ]
  },
  {
   "cell_type": "markdown",
   "id": "47e4bbdb-065d-43d3-91b9-d498f0d2170d",
   "metadata": {},
   "source": [
    "<div style=\"text-align: center;\">\n",
    "    <img src=\"https://imgur.com/kH8HZxH.png\" alt=\"Boxplots of Numerical Features\" width=\"700\">\n",
    "</div>"
   ]
  },
  {
   "cell_type": "markdown",
   "id": "3e81e026-85f9-48e3-9e2d-220c7b4c1173",
   "metadata": {},
   "source": [
    "<div style=\"text-align: center;\">\n",
    "<p style=\"text-align: center; font-size: 14px; margin-bottom: 30px; margin-left: 20px; font-style: italic;\">\n",
    "    Figure 5. Pairplot of PCA Components V1-3 by Outcome\n",
    "</p>\n",
    "</div>"
   ]
  },
  {
   "cell_type": "markdown",
   "id": "53e7d12d-9d3f-4fbd-b276-1f7c60d266e1",
   "metadata": {},
   "source": [
    "<div style=\"font-family: 'Poppins', sans-serif; font-size: 15px; border-bottom: 2px solid #2a475e; padding-bottom: 15px\">\n",
    "<p style=\"line-height: 1.5; text-align: justify\">\n",
    "Figure 5 presents the relationship between the different principal components, while highlighting the fraudulent and non-fraudulent cases. Based on the pair plots, the fraud data points do not uniformly mix with the non-fraud data points. It forms it’s own clusters and bands, which means that the different principal components are able to identify significant patterns, showing distinct feature interactions. This is promising because it means the features do contain information to distinguish fraud, but the team needs to implement more than a simple linear model to capture it.\n",
    "</p>\n",
    "</div>\n",
    "\n",
    "<div style=\"border-bottom: 1px solid #b6c6de; box-shadow: 0px 1px 0px #66c0f4; padding-bottom: 7px;\">\n",
    "</div>"
   ]
  },
  {
   "cell_type": "markdown",
   "id": "9c3c4d76-a3ed-44fd-b87a-50196db57747",
   "metadata": {
    "execution": {
     "iopub.execute_input": "2025-09-26T09:46:56.921774Z",
     "iopub.status.busy": "2025-09-26T09:46:56.921035Z",
     "iopub.status.idle": "2025-09-26T09:46:56.932657Z",
     "shell.execute_reply": "2025-09-26T09:46:56.930457Z",
     "shell.execute_reply.started": "2025-09-26T09:46:56.921709Z"
    }
   },
   "source": [
    "<div style=\"background-color: #215880; padding: 10px; border-radius: 5px;\">\n",
    "    <h3 style=\"color: #e6f1fa; font-size: 30px; font-weight: bold; margin: 10px;\">RESULTS AND DISCUSSION</h3>\n",
    "</div>"
   ]
  },
  {
   "cell_type": "markdown",
   "id": "f6ed3578-d120-4f60-966d-51a6cbb37f10",
   "metadata": {},
   "source": [
    "<div style=\"padding: 0px; border-radius: 5px;\">\n",
    "    <h5 style=\"color: #215880; font-size: 20px; font-weight: bold; margin: 10px;\">Baseline: Untuned Random Forest</h5>\n",
    "</div>"
   ]
  },
  {
   "cell_type": "code",
   "execution_count": 28,
   "id": "89304e84",
   "metadata": {},
   "outputs": [
    {
     "name": "stdout",
     "output_type": "stream",
     "text": [
      "LOKY_MAX_CPU_COUNT set to 12\n"
     ]
    }
   ],
   "source": [
    "#needed for cores in macbook\n",
    "import os, multiprocessing\n",
    "\n",
    "# This gives logical cores\n",
    "n_logical = multiprocessing.cpu_count()\n",
    "\n",
    "\n",
    "n_logical = os.cpu_count()   # same as multiprocessing.cpu_count()\n",
    "os.environ[\"LOKY_MAX_CPU_COUNT\"] = str(n_logical)\n",
    "print(f\"LOKY_MAX_CPU_COUNT set to {n_logical}\")\n"
   ]
  },
  {
   "cell_type": "code",
   "execution_count": 32,
   "id": "058408ff",
   "metadata": {},
   "outputs": [],
   "source": [
    "def net_savings(y_true, y_pred, amounts):\n",
    "    \"\"\"\n",
    "    Compute Net Savings = sum(TP amounts) - sum(FN amounts)\n",
    "    \n",
    "    Parameters:\n",
    "    -----------\n",
    "    y_true : array-like, true labels\n",
    "    y_pred : array-like, predicted labels\n",
    "    amounts : array-like, transaction amounts aligned with y_true\n",
    "    \n",
    "    Returns:\n",
    "    --------\n",
    "    float : net savings\n",
    "    \"\"\"\n",
    "    y_true = np.array(y_true)\n",
    "    y_pred = np.array(y_pred)\n",
    "    amounts = np.array(amounts)\n",
    "    \n",
    "    # True Positives: fraud predicted as fraud\n",
    "    tp_amount = amounts[(y_true == 1) & (y_pred == 1)].sum()\n",
    "    \n",
    "    # False Negatives: fraud predicted as non-fraud\n",
    "    fn_amount = amounts[(y_true == 1) & (y_pred == 0)].sum()\n",
    "    \n",
    "    return tp_amount - fn_amount\n",
    "\n",
    "def run_sampler_gridsearch(name, pipeline, param_grid, \n",
    "                           X_train, y_train, X_test, y_test, amt_test, \n",
    "                           results, cv=None, random_state=RANDOM_STATE):\n",
    "    \"\"\"\n",
    "    Run GridSearchCV for a given sampler/classifier pipeline,\n",
    "    optimize for Fraud Recall (FCR), evaluate on test set, \n",
    "    and append results.\n",
    "    \"\"\"\n",
    "\n",
    "    # Define scorer for fraud recall\n",
    "    fcr_scorer = make_scorer(recall_score, pos_label=1)\n",
    "    \n",
    "    if cv is None:\n",
    "        cv = StratifiedKFold(n_splits=3, shuffle=True, random_state=RANDOM_STATE)\n",
    "        \n",
    "    # Grid search\n",
    "    grid_search = GridSearchCV(\n",
    "        estimator=pipeline,\n",
    "        param_grid=param_grid,\n",
    "        scoring=fcr_scorer,   # optimize for FCR\n",
    "        cv=cv,\n",
    "        n_jobs=-1,\n",
    "        verbose=2\n",
    "    )\n",
    "    grid_search.fit(X_train, y_train)\n",
    "    \n",
    "    # Best model\n",
    "    best_model = grid_search.best_estimator_\n",
    "    best_params = grid_search.best_params_\n",
    "    \n",
    "    # Predictions on test set\n",
    "    y_pred_test = best_model.predict(X_test)\n",
    "    \n",
    "    # Metrics\n",
    "    precision = precision_score(y_test, y_pred_test)\n",
    "    recall_macro = recall_score(y_test, y_pred_test, average='macro')\n",
    "    f1 = f1_score(y_test, y_pred_test)\n",
    "    fcr = recall_score(y_test, y_pred_test, pos_label=1) * 100\n",
    "    net_sav = net_savings(y_test, y_pred_test, amt_test)\n",
    "    \n",
    "    # Append to results\n",
    "    results.append({\n",
    "        \"Method\": name,\n",
    "        \"Best Params\": best_params,\n",
    "        \"Precision\": precision,\n",
    "        \"Recall (Macro)\": recall_macro,\n",
    "        \"F1\": f1,\n",
    "        \"FCR (%)\": fcr,\n",
    "        \"Net Savings\": net_sav\n",
    "    })\n",
    "    \n",
    "    return results\n",
    "\n",
    "results = []"
   ]
  },
  {
   "cell_type": "code",
   "execution_count": 33,
   "id": "c5fc44a9",
   "metadata": {},
   "outputs": [],
   "source": [
    "# Separate Amount and target\n",
    "amounts = data['Amount']\n",
    "y = data['outcome']\n",
    "\n",
    "# Drop Amount + target from features\n",
    "X = data.drop(columns=['Amount', 'outcome', 'tid'])\n",
    "\n",
    "# Train/test split (20% hold-out)\n",
    "X_train_full, X_test, y_train_full, y_test, amt_train_full, amt_test = train_test_split(\n",
    "    X, y, amounts, test_size=0.2, random_state=RANDOM_STATE, stratify=y\n",
    ")\n",
    "\n",
    "# Train/validation split (20% val, 60% train)\n",
    "X_train, X_val, y_train, y_val, amt_train, amt_val = train_test_split(\n",
    "    X_train_full, y_train_full, amt_train_full,\n",
    "    test_size=0.25, random_state=RANDOM_STATE, stratify=y_train_full\n",
    ")"
   ]
  },
  {
   "cell_type": "code",
   "execution_count": 34,
   "id": "9d0ae052-681f-446b-854c-c830e54f24c7",
   "metadata": {},
   "outputs": [
    {
     "name": "stdout",
     "output_type": "stream",
     "text": [
      "Fitting 3 folds for each of 1 candidates, totalling 3 fits\n",
      "[CV] END .................................................... total time=  25.4s\n",
      "[CV] END .................................................... total time=  25.5s\n",
      "[CV] END .................................................... total time=  26.6s\n"
     ]
    }
   ],
   "source": [
    "pipeline_rf = Pipeline([\n",
    "    ('clf', RandomForestClassifier(random_state=RANDOM_STATE))\n",
    "])\n",
    "\n",
    "# Empty param grid (nothing to tune)\n",
    "param_grid_rf = {}\n",
    "\n",
    "results = run_sampler_gridsearch(\n",
    "    name=\"Random Forest (untuned)\",\n",
    "    pipeline=pipeline_rf,\n",
    "    param_grid=param_grid_rf,   # empty grid\n",
    "    X_train=X_train,\n",
    "    y_train=y_train,\n",
    "    X_test=X_test,\n",
    "    y_test=y_test,\n",
    "    amt_test=amt_test,\n",
    "    results=results,\n",
    "    random_state=RANDOM_STATE\n",
    ")"
   ]
  },
  {
   "cell_type": "markdown",
   "id": "15582f98",
   "metadata": {},
   "source": [
    "<div style=\"padding: 0px; border-radius: 5px;\">\n",
    "    <h5 style=\"color: #215880; font-size: 20px; font-weight: bold; margin: 10px;\">SMOTE</h5>\n",
    "</div>"
   ]
  },
  {
   "cell_type": "code",
   "execution_count": 19,
   "id": "d292e279-0eed-43ce-86d2-9431129d69fc",
   "metadata": {},
   "outputs": [
    {
     "name": "stdout",
     "output_type": "stream",
     "text": [
      "Fitting 3 folds for each of 10 candidates, totalling 30 fits\n",
      "[CV] END .smote__k_neighbors=3, smote__sampling_strategy=0.2; total time= 3.0min\n",
      "[CV] END .smote__k_neighbors=3, smote__sampling_strategy=0.2; total time= 3.1min\n",
      "[CV] END .smote__k_neighbors=5, smote__sampling_strategy=0.2; total time= 3.1min\n",
      "[CV] END .smote__k_neighbors=5, smote__sampling_strategy=0.2; total time= 3.2min\n",
      "[CV] END .smote__k_neighbors=3, smote__sampling_strategy=0.2; total time= 3.2min\n",
      "[CV] END .smote__k_neighbors=3, smote__sampling_strategy=0.3; total time= 3.2min\n",
      "[CV] END .smote__k_neighbors=3, smote__sampling_strategy=0.3; total time= 3.2min\n",
      "[CV] END .smote__k_neighbors=5, smote__sampling_strategy=0.3; total time= 3.3min\n",
      "[CV] END .smote__k_neighbors=5, smote__sampling_strategy=0.3; total time= 3.3min\n",
      "[CV] END .smote__k_neighbors=5, smote__sampling_strategy=0.2; total time= 3.4min\n",
      "[CV] END .smote__k_neighbors=5, smote__sampling_strategy=0.3; total time= 3.5min\n",
      "[CV] END .smote__k_neighbors=3, smote__sampling_strategy=0.3; total time= 3.5min\n",
      "[CV] END .smote__k_neighbors=7, smote__sampling_strategy=0.2; total time= 3.1min\n",
      "[CV] END .smote__k_neighbors=7, smote__sampling_strategy=0.2; total time= 3.1min\n",
      "[CV] END .smote__k_neighbors=9, smote__sampling_strategy=0.2; total time= 3.2min\n",
      "[CV] END .smote__k_neighbors=7, smote__sampling_strategy=0.2; total time= 3.3min\n",
      "[CV] END .smote__k_neighbors=7, smote__sampling_strategy=0.3; total time= 3.2min\n",
      "[CV] END .smote__k_neighbors=7, smote__sampling_strategy=0.3; total time= 3.4min\n",
      "[CV] END .smote__k_neighbors=9, smote__sampling_strategy=0.2; total time= 3.2min\n",
      "[CV] END .smote__k_neighbors=9, smote__sampling_strategy=0.3; total time= 3.4min\n",
      "[CV] END .smote__k_neighbors=9, smote__sampling_strategy=0.2; total time= 3.4min\n",
      "[CV] END .smote__k_neighbors=7, smote__sampling_strategy=0.3; total time= 3.5min\n",
      "[CV] END .smote__k_neighbors=9, smote__sampling_strategy=0.3; total time= 3.3min\n",
      "[CV] END .smote__k_neighbors=9, smote__sampling_strategy=0.3; total time= 3.5min\n",
      "[CV] END smote__k_neighbors=11, smote__sampling_strategy=0.2; total time= 1.9min\n",
      "[CV] END smote__k_neighbors=11, smote__sampling_strategy=0.2; total time= 1.9min\n",
      "[CV] END smote__k_neighbors=11, smote__sampling_strategy=0.2; total time= 1.9min\n",
      "[CV] END smote__k_neighbors=11, smote__sampling_strategy=0.3; total time= 1.8min\n",
      "[CV] END smote__k_neighbors=11, smote__sampling_strategy=0.3; total time= 1.8min\n",
      "[CV] END smote__k_neighbors=11, smote__sampling_strategy=0.3; total time= 1.8min\n"
     ]
    },
    {
     "data": {
      "text/plain": [
       "[{'Method': 'SMOTE',\n",
       "  'Precision': 0.8653846153846154,\n",
       "  'Recall (Macro)': 0.8514678055923812,\n",
       "  'F1': 0.7758620689655172,\n",
       "  'FCR (%)': 70.3125,\n",
       "  'Net Savings': np.float64(4842.460000000001)}]"
      ]
     },
     "execution_count": 19,
     "metadata": {},
     "output_type": "execute_result"
    }
   ],
   "source": [
    "# Smote Grid-Search\n",
    "pipeline_smote = Pipeline([\n",
    "    ('smote', SMOTE(random_state=RANDOM_STATE)),\n",
    "    ('clf', RandomForestClassifier(\n",
    "        random_state=RANDOM_STATE,\n",
    "        n_estimators=500,\n",
    "        n_jobs=-1\n",
    "    ))\n",
    "])\n",
    "\n",
    "param_grid_smote = {\n",
    "    'smote__sampling_strategy': [0.2, 0.3],\n",
    "    'smote__k_neighbors': [3, 5, 7, 9, 11],\n",
    "}\n",
    "\n",
    "# Define scorer based on fraud recall\n",
    "fcr_scorer = make_scorer(recall_score, pos_label=1)\n",
    "\n",
    "# Grid search\n",
    "grid_search_smote = GridSearchCV(\n",
    "    estimator=pipeline_smote,\n",
    "    param_grid=param_grid_smote,\n",
    "    scoring=fcr_scorer,   # optimize for FCR\n",
    "    cv=cv,\n",
    "    n_jobs=-1,\n",
    "    verbose=2\n",
    ")\n",
    "grid_search_smote.fit(X_train, y_train)\n",
    "\n",
    "# Best estimator (max FCR)\n",
    "best_model_smote = grid_search_smote.best_estimator_\n",
    "best_params_smote = grid_search_smote.best_params_\n",
    "\n",
    "# Predictions on test set\n",
    "y_pred_test = best_model_smote.predict(X_test)\n",
    "\n",
    "# Evaluate metrics\n",
    "precision = precision_score(y_test, y_pred_test)\n",
    "recall = recall_score(y_test, y_pred_test, average='macro')\n",
    "f1 = f1_score(y_test, y_pred_test)\n",
    "fcr = recall_score(y_test, y_pred_test, pos_label=1) * 100   # fraud recall %\n",
    "net_sav = net_savings(y_test, y_pred_test, amt_test)         # use amt_test, not data['Amount']\n",
    "\n",
    "# Append to results\n",
    "results.append({\n",
    "    \"Method\": \"SMOTE\",     # or \"Undersampling\", \"Oversampling\", etc.\n",
    "    \"Precision\": precision,\n",
    "    \"Recall (Macro)\": recall,\n",
    "    \"F1\": f1,\n",
    "    \"FCR (%)\": fcr,\n",
    "    \"Net Savings\": net_sav\n",
    "})\n",
    "\n",
    "results"
   ]
  },
  {
   "cell_type": "code",
   "execution_count": 37,
   "id": "8a606c99",
   "metadata": {},
   "outputs": [
    {
     "name": "stdout",
     "output_type": "stream",
     "text": [
      "Fitting 3 folds for each of 10 candidates, totalling 30 fits\n",
      "[CV] END .smote__k_neighbors=3, smote__sampling_strategy=0.2; total time= 3.2min\n",
      "[CV] END .smote__k_neighbors=5, smote__sampling_strategy=0.2; total time= 3.2min\n",
      "[CV] END .smote__k_neighbors=3, smote__sampling_strategy=0.2; total time= 3.2min\n",
      "[CV] END .smote__k_neighbors=5, smote__sampling_strategy=0.2; total time= 3.3min\n",
      "[CV] END .smote__k_neighbors=3, smote__sampling_strategy=0.3; total time= 3.4min\n",
      "[CV] END .smote__k_neighbors=3, smote__sampling_strategy=0.2; total time= 3.5min\n",
      "[CV] END .smote__k_neighbors=5, smote__sampling_strategy=0.3; total time= 3.5min\n",
      "[CV] END .smote__k_neighbors=3, smote__sampling_strategy=0.3; total time= 3.5min\n",
      "[CV] END .smote__k_neighbors=3, smote__sampling_strategy=0.3; total time= 3.6min\n",
      "[CV] END .smote__k_neighbors=5, smote__sampling_strategy=0.3; total time= 3.7min\n",
      "[CV] END .smote__k_neighbors=5, smote__sampling_strategy=0.2; total time= 3.7min\n",
      "[CV] END .smote__k_neighbors=5, smote__sampling_strategy=0.3; total time= 3.8min\n",
      "[CV] END .smote__k_neighbors=7, smote__sampling_strategy=0.2; total time= 3.6min\n",
      "[CV] END .smote__k_neighbors=7, smote__sampling_strategy=0.2; total time= 3.5min\n",
      "[CV] END .smote__k_neighbors=9, smote__sampling_strategy=0.2; total time= 3.6min\n",
      "[CV] END .smote__k_neighbors=7, smote__sampling_strategy=0.2; total time= 3.8min\n",
      "[CV] END .smote__k_neighbors=7, smote__sampling_strategy=0.3; total time= 3.8min\n",
      "[CV] END .smote__k_neighbors=9, smote__sampling_strategy=0.2; total time= 3.5min\n",
      "[CV] END .smote__k_neighbors=7, smote__sampling_strategy=0.3; total time= 3.7min\n",
      "[CV] END .smote__k_neighbors=7, smote__sampling_strategy=0.3; total time= 3.9min\n",
      "[CV] END .smote__k_neighbors=9, smote__sampling_strategy=0.2; total time= 3.8min\n",
      "[CV] END .smote__k_neighbors=9, smote__sampling_strategy=0.3; total time= 3.7min\n",
      "[CV] END .smote__k_neighbors=9, smote__sampling_strategy=0.3; total time= 3.7min\n",
      "[CV] END .smote__k_neighbors=9, smote__sampling_strategy=0.3; total time= 3.9min\n",
      "[CV] END smote__k_neighbors=11, smote__sampling_strategy=0.2; total time= 2.0min\n",
      "[CV] END smote__k_neighbors=11, smote__sampling_strategy=0.2; total time= 2.0min\n",
      "[CV] END smote__k_neighbors=11, smote__sampling_strategy=0.2; total time= 1.8min\n",
      "[CV] END smote__k_neighbors=11, smote__sampling_strategy=0.3; total time= 1.9min\n",
      "[CV] END smote__k_neighbors=11, smote__sampling_strategy=0.3; total time= 1.8min\n",
      "[CV] END smote__k_neighbors=11, smote__sampling_strategy=0.3; total time= 1.9min\n"
     ]
    }
   ],
   "source": [
    "# SMOTE\n",
    "pipeline_smote = Pipeline([\n",
    "    ('smote', SMOTE(random_state=RANDOM_STATE)),\n",
    "    ('clf', RandomForestClassifier(random_state=RANDOM_STATE, n_estimators=500, n_jobs=-1))\n",
    "])\n",
    "\n",
    "param_grid_smote = {\n",
    "    'smote__sampling_strategy': [0.2, 0.3],\n",
    "    'smote__k_neighbors': [3, 5, 7, 9, 11],\n",
    "}\n",
    "\n",
    "results = run_sampler_gridsearch(\"SMOTE\", pipeline_smote, param_grid_smote,\n",
    "                                 X_train, y_train, X_test, y_test, amt_test,\n",
    "                                 results, random_state=RANDOM_STATE)"
   ]
  },
  {
   "cell_type": "markdown",
   "id": "6c327135-19b8-4567-89ae-c3be9b3e8f72",
   "metadata": {},
   "source": [
    "<div style=\"padding: 0px; border-radius: 5px;\">\n",
    "    <h5 style=\"color: #215880; font-size: 20px; font-weight: bold; margin: 10px;\">SMOTE + Tomek</h5>\n",
    "</div>"
   ]
  },
  {
   "cell_type": "code",
   "execution_count": 38,
   "id": "04ab23a7",
   "metadata": {},
   "outputs": [
    {
     "name": "stdout",
     "output_type": "stream",
     "text": [
      "Fitting 3 folds for each of 10 candidates, totalling 30 fits\n",
      "[CV] END smote_tomek__k_neighbors=3, smote_tomek__sampling_strategy=0.2; total time= 3.5min\n",
      "[CV] END smote_tomek__k_neighbors=3, smote_tomek__sampling_strategy=0.2; total time= 3.5min\n",
      "[CV] END smote_tomek__k_neighbors=5, smote_tomek__sampling_strategy=0.2; total time= 3.6min\n",
      "[CV] END smote_tomek__k_neighbors=5, smote_tomek__sampling_strategy=0.2; total time= 3.6min\n",
      "[CV] END smote_tomek__k_neighbors=3, smote_tomek__sampling_strategy=0.2; total time= 3.6min\n",
      "[CV] END smote_tomek__k_neighbors=3, smote_tomek__sampling_strategy=0.3; total time= 3.8min\n",
      "[CV] END smote_tomek__k_neighbors=5, smote_tomek__sampling_strategy=0.2; total time= 3.8min\n",
      "[CV] END smote_tomek__k_neighbors=3, smote_tomek__sampling_strategy=0.3; total time= 3.8min\n",
      "[CV] END smote_tomek__k_neighbors=5, smote_tomek__sampling_strategy=0.3; total time= 3.8min\n",
      "[CV] END smote_tomek__k_neighbors=3, smote_tomek__sampling_strategy=0.3; total time= 3.9min\n",
      "[CV] END smote_tomek__k_neighbors=5, smote_tomek__sampling_strategy=0.3; total time= 3.9min\n",
      "[CV] END smote_tomek__k_neighbors=5, smote_tomek__sampling_strategy=0.3; total time= 3.9min\n",
      "[CV] END smote_tomek__k_neighbors=7, smote_tomek__sampling_strategy=0.2; total time= 2.4min\n",
      "[CV] END smote_tomek__k_neighbors=7, smote_tomek__sampling_strategy=0.2; total time= 3.2min\n",
      "[CV] END smote_tomek__k_neighbors=7, smote_tomek__sampling_strategy=0.2; total time= 3.8min\n",
      "[CV] END smote_tomek__k_neighbors=7, smote_tomek__sampling_strategy=0.3; total time= 4.0min\n",
      "[CV] END smote_tomek__k_neighbors=9, smote_tomek__sampling_strategy=0.2; total time= 3.8min\n",
      "[CV] END smote_tomek__k_neighbors=9, smote_tomek__sampling_strategy=0.2; total time= 3.8min\n",
      "[CV] END smote_tomek__k_neighbors=7, smote_tomek__sampling_strategy=0.3; total time= 4.0min\n",
      "[CV] END smote_tomek__k_neighbors=9, smote_tomek__sampling_strategy=0.2; total time= 3.9min\n",
      "[CV] END smote_tomek__k_neighbors=7, smote_tomek__sampling_strategy=0.3; total time= 4.0min\n",
      "[CV] END smote_tomek__k_neighbors=9, smote_tomek__sampling_strategy=0.3; total time= 4.0min\n",
      "[CV] END smote_tomek__k_neighbors=9, smote_tomek__sampling_strategy=0.3; total time= 4.0min\n",
      "[CV] END smote_tomek__k_neighbors=9, smote_tomek__sampling_strategy=0.3; total time= 4.1min\n",
      "[CV] END smote_tomek__k_neighbors=11, smote_tomek__sampling_strategy=0.2; total time= 2.6min\n",
      "[CV] END smote_tomek__k_neighbors=11, smote_tomek__sampling_strategy=0.2; total time= 2.2min\n",
      "[CV] END smote_tomek__k_neighbors=11, smote_tomek__sampling_strategy=0.2; total time= 1.8min\n",
      "[CV] END smote_tomek__k_neighbors=11, smote_tomek__sampling_strategy=0.3; total time= 1.8min\n",
      "[CV] END smote_tomek__k_neighbors=11, smote_tomek__sampling_strategy=0.3; total time= 1.7min\n",
      "[CV] END smote_tomek__k_neighbors=11, smote_tomek__sampling_strategy=0.3; total time= 1.8min\n"
     ]
    }
   ],
   "source": [
    "# SMOTE + Tomek\n",
    "pipeline_smote_tomek = Pipeline([\n",
    "    ('smote_tomek', SMOTE(random_state=RANDOM_STATE)),\n",
    "    ('tomek', TomekLinks()),\n",
    "    ('clf', RandomForestClassifier(random_state=RANDOM_STATE, n_estimators=500, n_jobs=-1))\n",
    "])\n",
    "\n",
    "param_grid_smote_tomek = {\n",
    "    'smote_tomek__sampling_strategy': [0.2, 0.3],\n",
    "    'smote_tomek__k_neighbors': [3, 5, 7, 9, 11],\n",
    "}\n",
    "\n",
    "results = run_sampler_gridsearch(\"SMOTE + Tomek\", pipeline_smote_tomek, param_grid_smote_tomek,\n",
    "                                 X_train, y_train, X_test, y_test, amt_test,\n",
    "                                 results, random_state=RANDOM_STATE)"
   ]
  },
  {
   "cell_type": "markdown",
   "id": "cee665f0",
   "metadata": {},
   "source": [
    "<div style=\"padding: 0px; border-radius: 5px;\">\n",
    "    <h5 style=\"color: #215880; font-size: 20px; font-weight: bold; margin: 10px;\">ADASYN</h5>\n",
    "</div>"
   ]
  },
  {
   "cell_type": "code",
   "execution_count": 40,
   "id": "34aa0c3d",
   "metadata": {},
   "outputs": [
    {
     "name": "stdout",
     "output_type": "stream",
     "text": [
      "Fitting 3 folds for each of 10 candidates, totalling 30 fits\n",
      "[CV] END adasyn__n_neighbors=3, adasyn__sampling_strategy=0.2; total time= 2.7min\n",
      "[CV] END adasyn__n_neighbors=3, adasyn__sampling_strategy=0.2; total time= 2.8min\n",
      "[CV] END adasyn__n_neighbors=3, adasyn__sampling_strategy=0.2; total time= 2.8min\n",
      "[CV] END adasyn__n_neighbors=5, adasyn__sampling_strategy=0.2; total time= 2.9min\n",
      "[CV] END adasyn__n_neighbors=5, adasyn__sampling_strategy=0.2; total time= 3.0min\n",
      "[CV] END adasyn__n_neighbors=3, adasyn__sampling_strategy=0.3; total time= 3.0min\n",
      "[CV] END adasyn__n_neighbors=3, adasyn__sampling_strategy=0.3; total time= 3.1min\n",
      "[CV] END adasyn__n_neighbors=5, adasyn__sampling_strategy=0.2; total time= 3.1min\n",
      "[CV] END adasyn__n_neighbors=3, adasyn__sampling_strategy=0.3; total time= 3.1min\n",
      "[CV] END adasyn__n_neighbors=5, adasyn__sampling_strategy=0.3; total time= 3.2min\n",
      "[CV] END adasyn__n_neighbors=5, adasyn__sampling_strategy=0.3; total time= 3.2min\n",
      "[CV] END adasyn__n_neighbors=5, adasyn__sampling_strategy=0.3; total time= 3.4min\n",
      "[CV] END adasyn__n_neighbors=7, adasyn__sampling_strategy=0.2; total time= 2.9min\n",
      "[CV] END adasyn__n_neighbors=7, adasyn__sampling_strategy=0.2; total time= 3.0min\n",
      "[CV] END adasyn__n_neighbors=7, adasyn__sampling_strategy=0.2; total time= 3.2min\n",
      "[CV] END adasyn__n_neighbors=9, adasyn__sampling_strategy=0.2; total time= 3.0min\n",
      "[CV] END adasyn__n_neighbors=9, adasyn__sampling_strategy=0.2; total time= 3.1min\n",
      "[CV] END adasyn__n_neighbors=7, adasyn__sampling_strategy=0.3; total time= 3.3min\n",
      "[CV] END adasyn__n_neighbors=9, adasyn__sampling_strategy=0.2; total time= 3.1min\n",
      "[CV] END adasyn__n_neighbors=7, adasyn__sampling_strategy=0.3; total time= 3.3min\n",
      "[CV] END adasyn__n_neighbors=7, adasyn__sampling_strategy=0.3; total time= 3.5min\n",
      "[CV] END adasyn__n_neighbors=9, adasyn__sampling_strategy=0.3; total time= 3.3min\n",
      "[CV] END adasyn__n_neighbors=9, adasyn__sampling_strategy=0.3; total time= 3.2min\n",
      "[CV] END adasyn__n_neighbors=9, adasyn__sampling_strategy=0.3; total time= 3.5min\n",
      "[CV] END adasyn__n_neighbors=11, adasyn__sampling_strategy=0.2; total time= 2.1min\n",
      "[CV] END adasyn__n_neighbors=11, adasyn__sampling_strategy=0.2; total time= 1.8min\n",
      "[CV] END adasyn__n_neighbors=11, adasyn__sampling_strategy=0.2; total time= 2.0min\n",
      "[CV] END adasyn__n_neighbors=11, adasyn__sampling_strategy=0.3; total time= 1.8min\n",
      "[CV] END adasyn__n_neighbors=11, adasyn__sampling_strategy=0.3; total time= 1.8min\n",
      "[CV] END adasyn__n_neighbors=11, adasyn__sampling_strategy=0.3; total time= 1.8min\n"
     ]
    }
   ],
   "source": [
    "# SMOTE\n",
    "pipeline_adasyn = Pipeline([\n",
    "    ('adasyn', ADASYN(random_state=RANDOM_STATE)),\n",
    "    ('clf', RandomForestClassifier(random_state=RANDOM_STATE, n_estimators=500, n_jobs=-1))\n",
    "])\n",
    "\n",
    "param_grid_adasyn = {\n",
    "    'adasyn__sampling_strategy': [0.2, 0.3],\n",
    "    'adasyn__n_neighbors': [3, 5, 7, 9, 11],\n",
    "}\n",
    "\n",
    "results = run_sampler_gridsearch(\"ADASYN\", pipeline_adasyn, param_grid_adasyn,\n",
    "                                 X_train, y_train, X_test, y_test, amt_test,\n",
    "                                 results, random_state=RANDOM_STATE)"
   ]
  },
  {
   "cell_type": "markdown",
   "id": "9fbac85a",
   "metadata": {},
   "source": [
    "<div style=\"padding: 0px; border-radius: 5px;\">\n",
    "    <h5 style=\"color: #215880; font-size: 20px; font-weight: bold; margin: 10px;\">ADASYN + Tomek</h5>\n",
    "</div>"
   ]
  },
  {
   "cell_type": "code",
   "execution_count": 41,
   "id": "729f7434",
   "metadata": {},
   "outputs": [
    {
     "name": "stdout",
     "output_type": "stream",
     "text": [
      "Fitting 3 folds for each of 10 candidates, totalling 30 fits\n",
      "[CV] END adasyn_tomek__n_neighbors=3, adasyn_tomek__sampling_strategy=0.2; total time= 3.0min\n",
      "[CV] END adasyn_tomek__n_neighbors=3, adasyn_tomek__sampling_strategy=0.2; total time= 3.1min\n",
      "[CV] END adasyn_tomek__n_neighbors=3, adasyn_tomek__sampling_strategy=0.2; total time= 3.2min\n",
      "[CV] END adasyn_tomek__n_neighbors=5, adasyn_tomek__sampling_strategy=0.2; total time= 3.3min\n",
      "[CV] END adasyn_tomek__n_neighbors=5, adasyn_tomek__sampling_strategy=0.2; total time= 3.3min\n",
      "[CV] END adasyn_tomek__n_neighbors=3, adasyn_tomek__sampling_strategy=0.3; total time= 3.5min\n",
      "[CV] END adasyn_tomek__n_neighbors=3, adasyn_tomek__sampling_strategy=0.3; total time= 3.5min\n",
      "[CV] END adasyn_tomek__n_neighbors=5, adasyn_tomek__sampling_strategy=0.2; total time= 3.5min\n",
      "[CV] END adasyn_tomek__n_neighbors=3, adasyn_tomek__sampling_strategy=0.3; total time= 3.6min\n",
      "[CV] END adasyn_tomek__n_neighbors=5, adasyn_tomek__sampling_strategy=0.3; total time= 3.6min\n",
      "[CV] END adasyn_tomek__n_neighbors=5, adasyn_tomek__sampling_strategy=0.3; total time= 3.6min\n",
      "[CV] END adasyn_tomek__n_neighbors=5, adasyn_tomek__sampling_strategy=0.3; total time= 3.7min\n",
      "[CV] END adasyn_tomek__n_neighbors=7, adasyn_tomek__sampling_strategy=0.2; total time= 2.3min\n",
      "[CV] END adasyn_tomek__n_neighbors=7, adasyn_tomek__sampling_strategy=0.2; total time= 2.3min\n",
      "[CV] END adasyn_tomek__n_neighbors=7, adasyn_tomek__sampling_strategy=0.3; total time= 3.4min\n",
      "[CV] END adasyn_tomek__n_neighbors=7, adasyn_tomek__sampling_strategy=0.2; total time= 3.5min\n",
      "[CV] END adasyn_tomek__n_neighbors=9, adasyn_tomek__sampling_strategy=0.2; total time= 3.7min\n",
      "[CV] END adasyn_tomek__n_neighbors=9, adasyn_tomek__sampling_strategy=0.2; total time= 3.8min\n",
      "[CV] END adasyn_tomek__n_neighbors=9, adasyn_tomek__sampling_strategy=0.2; total time= 4.0min\n",
      "[CV] END adasyn_tomek__n_neighbors=7, adasyn_tomek__sampling_strategy=0.3; total time= 4.3min\n",
      "[CV] END adasyn_tomek__n_neighbors=7, adasyn_tomek__sampling_strategy=0.3; total time= 4.1min\n",
      "[CV] END adasyn_tomek__n_neighbors=9, adasyn_tomek__sampling_strategy=0.3; total time= 4.1min\n",
      "[CV] END adasyn_tomek__n_neighbors=9, adasyn_tomek__sampling_strategy=0.3; total time= 4.0min\n",
      "[CV] END adasyn_tomek__n_neighbors=9, adasyn_tomek__sampling_strategy=0.3; total time= 4.2min\n",
      "[CV] END adasyn_tomek__n_neighbors=11, adasyn_tomek__sampling_strategy=0.2; total time= 2.9min\n",
      "[CV] END adasyn_tomek__n_neighbors=11, adasyn_tomek__sampling_strategy=0.2; total time= 2.9min\n",
      "[CV] END adasyn_tomek__n_neighbors=11, adasyn_tomek__sampling_strategy=0.2; total time= 2.0min\n",
      "[CV] END adasyn_tomek__n_neighbors=11, adasyn_tomek__sampling_strategy=0.3; total time= 2.0min\n",
      "[CV] END adasyn_tomek__n_neighbors=11, adasyn_tomek__sampling_strategy=0.3; total time= 1.6min\n",
      "[CV] END adasyn_tomek__n_neighbors=11, adasyn_tomek__sampling_strategy=0.3; total time= 1.5min\n"
     ]
    },
    {
     "data": {
      "text/plain": [
       "[{'Method': 'Random Forest (untuned)',\n",
       "  'Best Params': {},\n",
       "  'Precision': 0.9361702127659575,\n",
       "  'Recall (Macro)': 0.843709416682449,\n",
       "  'F1': 0.7927927927927928,\n",
       "  'FCR (%)': 68.75,\n",
       "  'Net Savings': np.float64(-708.4899999999989)},\n",
       " {'Method': 'SMOTE',\n",
       "  'Best Params': {'smote__k_neighbors': 7, 'smote__sampling_strategy': 0.2},\n",
       "  'Precision': 0.8064516129032258,\n",
       "  'Recall (Macro)': 0.8904626667297963,\n",
       "  'F1': 0.7936507936507936,\n",
       "  'FCR (%)': 78.125,\n",
       "  'Net Savings': np.float64(-423.9699999999998)},\n",
       " {'Method': 'SMOTE + Tomek',\n",
       "  'Best Params': {'smote_tomek__k_neighbors': 7,\n",
       "   'smote_tomek__sampling_strategy': 0.2},\n",
       "  'Precision': 0.8064516129032258,\n",
       "  'Recall (Macro)': 0.8904626667297963,\n",
       "  'F1': 0.7936507936507936,\n",
       "  'FCR (%)': 78.125,\n",
       "  'Net Savings': np.float64(-423.9699999999998)},\n",
       " {'Method': 'ADASYN',\n",
       "  'Best Params': {'adasyn__n_neighbors': 9, 'adasyn__sampling_strategy': 0.2},\n",
       "  'Precision': 0.7936507936507936,\n",
       "  'Recall (Macro)': 0.8904491389572793,\n",
       "  'F1': 0.7874015748031497,\n",
       "  'FCR (%)': 78.125,\n",
       "  'Net Savings': np.float64(-423.9699999999998)},\n",
       " {'Method': 'ADASYN + Tomek',\n",
       "  'Best Params': {'adasyn_tomek__n_neighbors': 9,\n",
       "   'adasyn_tomek__sampling_strategy': 0.2},\n",
       "  'Precision': 0.7936507936507936,\n",
       "  'Recall (Macro)': 0.8904491389572793,\n",
       "  'F1': 0.7874015748031497,\n",
       "  'FCR (%)': 78.125,\n",
       "  'Net Savings': np.float64(-423.9699999999998)}]"
      ]
     },
     "execution_count": 41,
     "metadata": {},
     "output_type": "execute_result"
    }
   ],
   "source": [
    "\n",
    "# ADASYN Grid-Search\n",
    "pipeline_adasyn_tomek = Pipeline([\n",
    "    ('adasyn_tomek', ADASYN(random_state=RANDOM_STATE)),\n",
    "    ('tomek', TomekLinks()),\n",
    "    ('clf', RandomForestClassifier(\n",
    "        random_state=RANDOM_STATE,\n",
    "        n_estimators=500,\n",
    "        n_jobs=-1\n",
    "    ))\n",
    "])\n",
    "\n",
    "param_grid_adasyn_tomek = {\n",
    "    'adasyn_tomek__sampling_strategy': [0.2, 0.3],\n",
    "    'adasyn_tomek__n_neighbors': [3, 5, 7, 9, 11],\n",
    "}\n",
    "\n",
    "results = run_sampler_gridsearch(\"ADASYN + Tomek\", pipeline_adasyn_tomek, param_grid_adasyn_tomek,\n",
    "                                 X_train, y_train, X_test, y_test, amt_test,\n",
    "                                 results, random_state=RANDOM_STATE)\n",
    "\n",
    "results"
   ]
  },
  {
   "cell_type": "markdown",
   "id": "67acc802",
   "metadata": {},
   "source": [
    "<div style=\"padding: 0px; border-radius: 5px;\">\n",
    "    <h5 style=\"color: #215880; font-size: 20px; font-weight: bold; margin: 10px;\">Random Undersampling</h5>\n",
    "</div>"
   ]
  },
  {
   "cell_type": "code",
   "execution_count": 42,
   "id": "62731882",
   "metadata": {},
   "outputs": [
    {
     "name": "stdout",
     "output_type": "stream",
     "text": [
      "Fitting 3 folds for each of 1 candidates, totalling 3 fits\n",
      "[CV] END .................................................... total time=   0.5s\n",
      "[CV] END .................................................... total time=   0.5s\n",
      "[CV] END .................................................... total time=   0.5s\n"
     ]
    }
   ],
   "source": [
    "pipeline_under = Pipeline([\n",
    "    ('under', RandomUnderSampler(random_state=RANDOM_STATE)),\n",
    "    ('clf', RandomForestClassifier(\n",
    "        random_state=RANDOM_STATE,\n",
    "        n_estimators=500,\n",
    "        n_jobs=-1\n",
    "    ))\n",
    "])\n",
    "\n",
    "param_grid_under = {}  # no tuning\n",
    "\n",
    "results = run_sampler_gridsearch(\n",
    "    \"Random Undersampling\",\n",
    "    pipeline_under,\n",
    "    param_grid_under,\n",
    "    X_train, y_train, X_test, y_test, amt_test,\n",
    "    results,\n",
    "    random_state=RANDOM_STATE\n",
    ")"
   ]
  },
  {
   "cell_type": "markdown",
   "id": "5f39ed22",
   "metadata": {},
   "source": [
    "<div style=\"padding: 0px; border-radius: 5px;\">\n",
    "    <h5 style=\"color: #215880; font-size: 20px; font-weight: bold; margin: 10px;\">Random Oversampling</h5>\n",
    "</div>"
   ]
  },
  {
   "cell_type": "code",
   "execution_count": 43,
   "id": "da4565cc",
   "metadata": {},
   "outputs": [
    {
     "name": "stdout",
     "output_type": "stream",
     "text": [
      "Fitting 3 folds for each of 1 candidates, totalling 3 fits\n",
      "[CV] END .................................................... total time=  32.2s\n",
      "[CV] END .................................................... total time=  32.2s\n",
      "[CV] END .................................................... total time=  32.3s\n"
     ]
    }
   ],
   "source": [
    "pipeline_over = Pipeline([\n",
    "    ('over', RandomOverSampler(random_state=RANDOM_STATE)),\n",
    "    ('clf', RandomForestClassifier(\n",
    "        random_state=RANDOM_STATE,\n",
    "        n_estimators=500,\n",
    "        n_jobs=-1\n",
    "    ))\n",
    "])\n",
    "\n",
    "param_grid_over = {}  # no tuning\n",
    "\n",
    "results = run_sampler_gridsearch(\n",
    "    \"Random Oversampling\",\n",
    "    pipeline_over,\n",
    "    param_grid_over,\n",
    "    X_train, y_train, X_test, y_test, amt_test,\n",
    "    results,\n",
    "    random_state=RANDOM_STATE\n",
    ")"
   ]
  },
  {
   "cell_type": "markdown",
   "id": "b4389497",
   "metadata": {},
   "source": [
    "<div style=\"padding: 0px; border-radius: 5px;\">\n",
    "    <h5 style=\"color: #215880; font-size: 20px; font-weight: bold; margin: 10px;\">Class Weighting</h5>\n",
    "</div>"
   ]
  },
  {
   "cell_type": "code",
   "execution_count": 44,
   "id": "7ace489d",
   "metadata": {},
   "outputs": [
    {
     "name": "stdout",
     "output_type": "stream",
     "text": [
      "Fitting 3 folds for each of 5 candidates, totalling 15 fits\n",
      "[CV] END clf__class_weight={0: np.float64(0.0), 1: np.float64(100.0)}; total time=   3.3s\n",
      "[CV] END clf__class_weight={0: np.float64(0.0), 1: np.float64(100.0)}; total time=   3.4s\n",
      "[CV] END clf__class_weight={0: np.float64(0.0), 1: np.float64(100.0)}; total time=   3.6s\n",
      "[CV] END clf__class_weight={0: np.float64(100.0), 1: np.float64(0.0)}; total time=   4.2s\n",
      "[CV] END clf__class_weight={0: np.float64(100.0), 1: np.float64(0.0)}; total time=   4.2s\n",
      "[CV] END clf__class_weight={0: np.float64(100.0), 1: np.float64(0.0)}; total time=   4.6s\n",
      "[CV] END clf__class_weight={0: np.float64(25.0), 1: np.float64(75.0)}; total time= 2.0min\n",
      "[CV] END clf__class_weight={0: np.float64(25.0), 1: np.float64(75.0)}; total time= 2.0min\n",
      "[CV] END clf__class_weight={0: np.float64(25.0), 1: np.float64(75.0)}; total time= 2.0min\n",
      "[CV] END clf__class_weight={0: np.float64(50.0), 1: np.float64(50.0)}; total time= 2.1min\n",
      "[CV] END clf__class_weight={0: np.float64(50.0), 1: np.float64(50.0)}; total time= 2.1min\n",
      "[CV] END clf__class_weight={0: np.float64(50.0), 1: np.float64(50.0)}; total time= 2.1min\n",
      "[CV] END clf__class_weight={0: np.float64(75.0), 1: np.float64(25.0)}; total time= 2.1min\n",
      "[CV] END clf__class_weight={0: np.float64(75.0), 1: np.float64(25.0)}; total time= 2.1min\n",
      "[CV] END clf__class_weight={0: np.float64(75.0), 1: np.float64(25.0)}; total time= 2.1min\n"
     ]
    },
    {
     "data": {
      "text/plain": [
       "[{'Method': 'Random Forest (untuned)',\n",
       "  'Best Params': {},\n",
       "  'Precision': 0.9361702127659575,\n",
       "  'Recall (Macro)': 0.843709416682449,\n",
       "  'F1': 0.7927927927927928,\n",
       "  'FCR (%)': 68.75,\n",
       "  'Net Savings': np.float64(-708.4899999999989)},\n",
       " {'Method': 'SMOTE',\n",
       "  'Best Params': {'smote__k_neighbors': 7, 'smote__sampling_strategy': 0.2},\n",
       "  'Precision': 0.8064516129032258,\n",
       "  'Recall (Macro)': 0.8904626667297963,\n",
       "  'F1': 0.7936507936507936,\n",
       "  'FCR (%)': 78.125,\n",
       "  'Net Savings': np.float64(-423.9699999999998)},\n",
       " {'Method': 'SMOTE + Tomek',\n",
       "  'Best Params': {'smote_tomek__k_neighbors': 7,\n",
       "   'smote_tomek__sampling_strategy': 0.2},\n",
       "  'Precision': 0.8064516129032258,\n",
       "  'Recall (Macro)': 0.8904626667297963,\n",
       "  'F1': 0.7936507936507936,\n",
       "  'FCR (%)': 78.125,\n",
       "  'Net Savings': np.float64(-423.9699999999998)},\n",
       " {'Method': 'ADASYN',\n",
       "  'Best Params': {'adasyn__n_neighbors': 9, 'adasyn__sampling_strategy': 0.2},\n",
       "  'Precision': 0.7936507936507936,\n",
       "  'Recall (Macro)': 0.8904491389572793,\n",
       "  'F1': 0.7874015748031497,\n",
       "  'FCR (%)': 78.125,\n",
       "  'Net Savings': np.float64(-423.9699999999998)},\n",
       " {'Method': 'ADASYN + Tomek',\n",
       "  'Best Params': {'adasyn_tomek__n_neighbors': 9,\n",
       "   'adasyn_tomek__sampling_strategy': 0.2},\n",
       "  'Precision': 0.7936507936507936,\n",
       "  'Recall (Macro)': 0.8904491389572793,\n",
       "  'F1': 0.7874015748031497,\n",
       "  'FCR (%)': 78.125,\n",
       "  'Net Savings': np.float64(-423.9699999999998)},\n",
       " {'Method': 'Random Undersampling',\n",
       "  'Best Params': {},\n",
       "  'Precision': 0.051756007393715345,\n",
       "  'Recall (Macro)': 0.9236205053975812,\n",
       "  'F1': 0.09773123909249563,\n",
       "  'FCR (%)': 87.5,\n",
       "  'Net Savings': np.float64(4771.630000000001)},\n",
       " {'Method': 'Random Oversampling',\n",
       "  'Best Params': {},\n",
       "  'Precision': 0.9230769230769231,\n",
       "  'Recall (Macro)': 0.8749458889099321,\n",
       "  'F1': 0.8275862068965517,\n",
       "  'FCR (%)': 75.0,\n",
       "  'Net Savings': np.float64(-430.40999999999985)},\n",
       " {'Method': 'Class Weights',\n",
       "  'Best Params': {'clf__class_weight': {0: np.float64(0.0),\n",
       "    1: np.float64(100.0)}},\n",
       "  'Precision': 0.0017285617825793383,\n",
       "  'Recall (Macro)': 0.5,\n",
       "  'F1': 0.0034511580252905173,\n",
       "  'FCR (%)': 100.0,\n",
       "  'Net Savings': np.float64(7177.73)}]"
      ]
     },
     "execution_count": 44,
     "metadata": {},
     "output_type": "execute_result"
    }
   ],
   "source": [
    "# Define weights to test\n",
    "weights = np.linspace(0, 100, 5)  # e.g. [0, 25, 50, 75, 100]\n",
    "\n",
    "# Build pipeline\n",
    "pipeline_cw = Pipeline([\n",
    "    ('clf', RandomForestClassifier(\n",
    "        random_state=RANDOM_STATE,\n",
    "        n_estimators=500,\n",
    "        n_jobs=-1\n",
    "    ))\n",
    "])\n",
    "\n",
    "# Build param grid for class weights\n",
    "param_grid_cw = {\n",
    "    'clf__class_weight': [{0: w0, 1: 100 - w0} for w0 in weights]\n",
    "}\n",
    "\n",
    "# Run grid search with fraud recall optimization + store results\n",
    "results = run_sampler_gridsearch(\n",
    "    \"Class Weights\",\n",
    "    pipeline_cw,\n",
    "    param_grid_cw,\n",
    "    X_train, y_train, X_test, y_test, amt_test,\n",
    "    results,\n",
    "    random_state=RANDOM_STATE\n",
    ")\n",
    "\n",
    "results\n"
   ]
  },
  {
   "cell_type": "code",
   "execution_count": 45,
   "id": "28a56991",
   "metadata": {},
   "outputs": [
    {
     "data": {
      "text/html": [
       "<div>\n",
       "<style scoped>\n",
       "    .dataframe tbody tr th:only-of-type {\n",
       "        vertical-align: middle;\n",
       "    }\n",
       "\n",
       "    .dataframe tbody tr th {\n",
       "        vertical-align: top;\n",
       "    }\n",
       "\n",
       "    .dataframe thead th {\n",
       "        text-align: right;\n",
       "    }\n",
       "</style>\n",
       "<table border=\"1\" class=\"dataframe\">\n",
       "  <thead>\n",
       "    <tr style=\"text-align: right;\">\n",
       "      <th></th>\n",
       "      <th>Method</th>\n",
       "      <th>Best Params</th>\n",
       "      <th>Precision</th>\n",
       "      <th>Recall (Macro)</th>\n",
       "      <th>F1</th>\n",
       "      <th>FCR (%)</th>\n",
       "      <th>Net Savings</th>\n",
       "    </tr>\n",
       "  </thead>\n",
       "  <tbody>\n",
       "    <tr>\n",
       "      <th>0</th>\n",
       "      <td>Random Forest (untuned)</td>\n",
       "      <td>{}</td>\n",
       "      <td>0.936170</td>\n",
       "      <td>0.843709</td>\n",
       "      <td>0.792793</td>\n",
       "      <td>68.750</td>\n",
       "      <td>-708.49</td>\n",
       "    </tr>\n",
       "    <tr>\n",
       "      <th>1</th>\n",
       "      <td>SMOTE</td>\n",
       "      <td>{'smote__k_neighbors': 7, 'smote__sampling_str...</td>\n",
       "      <td>0.806452</td>\n",
       "      <td>0.890463</td>\n",
       "      <td>0.793651</td>\n",
       "      <td>78.125</td>\n",
       "      <td>-423.97</td>\n",
       "    </tr>\n",
       "    <tr>\n",
       "      <th>2</th>\n",
       "      <td>SMOTE + Tomek</td>\n",
       "      <td>{'smote_tomek__k_neighbors': 7, 'smote_tomek__...</td>\n",
       "      <td>0.806452</td>\n",
       "      <td>0.890463</td>\n",
       "      <td>0.793651</td>\n",
       "      <td>78.125</td>\n",
       "      <td>-423.97</td>\n",
       "    </tr>\n",
       "    <tr>\n",
       "      <th>3</th>\n",
       "      <td>ADASYN</td>\n",
       "      <td>{'adasyn__n_neighbors': 9, 'adasyn__sampling_s...</td>\n",
       "      <td>0.793651</td>\n",
       "      <td>0.890449</td>\n",
       "      <td>0.787402</td>\n",
       "      <td>78.125</td>\n",
       "      <td>-423.97</td>\n",
       "    </tr>\n",
       "    <tr>\n",
       "      <th>4</th>\n",
       "      <td>ADASYN + Tomek</td>\n",
       "      <td>{'adasyn_tomek__n_neighbors': 9, 'adasyn_tomek...</td>\n",
       "      <td>0.793651</td>\n",
       "      <td>0.890449</td>\n",
       "      <td>0.787402</td>\n",
       "      <td>78.125</td>\n",
       "      <td>-423.97</td>\n",
       "    </tr>\n",
       "    <tr>\n",
       "      <th>5</th>\n",
       "      <td>Random Undersampling</td>\n",
       "      <td>{}</td>\n",
       "      <td>0.051756</td>\n",
       "      <td>0.923621</td>\n",
       "      <td>0.097731</td>\n",
       "      <td>87.500</td>\n",
       "      <td>4771.63</td>\n",
       "    </tr>\n",
       "    <tr>\n",
       "      <th>6</th>\n",
       "      <td>Random Oversampling</td>\n",
       "      <td>{}</td>\n",
       "      <td>0.923077</td>\n",
       "      <td>0.874946</td>\n",
       "      <td>0.827586</td>\n",
       "      <td>75.000</td>\n",
       "      <td>-430.41</td>\n",
       "    </tr>\n",
       "    <tr>\n",
       "      <th>7</th>\n",
       "      <td>Class Weights</td>\n",
       "      <td>{'clf__class_weight': {0: 0.0, 1: 100.0}}</td>\n",
       "      <td>0.001729</td>\n",
       "      <td>0.500000</td>\n",
       "      <td>0.003451</td>\n",
       "      <td>100.000</td>\n",
       "      <td>7177.73</td>\n",
       "    </tr>\n",
       "  </tbody>\n",
       "</table>\n",
       "</div>"
      ],
      "text/plain": [
       "                    Method                                        Best Params  \\\n",
       "0  Random Forest (untuned)                                                 {}   \n",
       "1                    SMOTE  {'smote__k_neighbors': 7, 'smote__sampling_str...   \n",
       "2            SMOTE + Tomek  {'smote_tomek__k_neighbors': 7, 'smote_tomek__...   \n",
       "3                   ADASYN  {'adasyn__n_neighbors': 9, 'adasyn__sampling_s...   \n",
       "4           ADASYN + Tomek  {'adasyn_tomek__n_neighbors': 9, 'adasyn_tomek...   \n",
       "5     Random Undersampling                                                 {}   \n",
       "6      Random Oversampling                                                 {}   \n",
       "7            Class Weights          {'clf__class_weight': {0: 0.0, 1: 100.0}}   \n",
       "\n",
       "   Precision  Recall (Macro)        F1  FCR (%)  Net Savings  \n",
       "0   0.936170        0.843709  0.792793   68.750      -708.49  \n",
       "1   0.806452        0.890463  0.793651   78.125      -423.97  \n",
       "2   0.806452        0.890463  0.793651   78.125      -423.97  \n",
       "3   0.793651        0.890449  0.787402   78.125      -423.97  \n",
       "4   0.793651        0.890449  0.787402   78.125      -423.97  \n",
       "5   0.051756        0.923621  0.097731   87.500      4771.63  \n",
       "6   0.923077        0.874946  0.827586   75.000      -430.41  \n",
       "7   0.001729        0.500000  0.003451  100.000      7177.73  "
      ]
     },
     "metadata": {},
     "output_type": "display_data"
    }
   ],
   "source": [
    "results_df = pd.DataFrame(results)\n",
    "display(results_df)"
   ]
  },
  {
   "cell_type": "code",
   "execution_count": null,
   "id": "db06ab44",
   "metadata": {},
   "outputs": [],
   "source": [
    "'''\n",
    "net savings = (sum of amounts from TP) - (sum of amounts from FN)\n",
    "'''"
   ]
  },
  {
   "cell_type": "markdown",
   "id": "8f6f992c",
   "metadata": {},
   "source": [
    "# Fixed fraud detection pipeline\n",
    "This notebook loads `historical.csv`, creates a stratified train-test split, builds resampling pipelines (SMOTE, SMOTE+Tomek, ADASYN, ADASYN+Tomek) each with a RandomForest classifier, fits them, evaluates on the test set, and compares metrics (precision, recall, f1, and FCR = (FP+FN)/N)."
   ]
  },
  {
   "cell_type": "code",
   "execution_count": 28,
   "id": "20900082",
   "metadata": {},
   "outputs": [
    {
     "name": "stdout",
     "output_type": "stream",
     "text": [
      "Train shape: (148099, 29) Test shape: (37025, 29)\n",
      "Positive ratio (train): 0.0017285734542434453 Positive ratio (test): 0.0017285617825793383\n"
     ]
    }
   ],
   "source": [
    "# Prepare features and target\n",
    "# Assumes the dataset has columns 'tid' and 'outcome' like in your original notebook.\n",
    "# If your target column has a different name, update `target_col` below.\n",
    "target_col = 'outcome'\n",
    "id_col = 'tid' if 'tid' in data.columns else None\n",
    "\n",
    "if target_col not in data.columns:\n",
    "    raise ValueError(f\"Target column '{target_col}' not found in the dataframe. Available columns: {data.columns.tolist()}\")\n",
    "\n",
    "X = data.drop(columns=[target_col] + ([id_col] if id_col is not None else []))\n",
    "y = data[target_col]\n",
    "\n",
    "# If there's an 'Amount' column used in evaluation, ensure it's kept in a copy for later\n",
    "amounts = X['Amount'].copy() if 'Amount' in X.columns else None\n",
    "\n",
    "# Train-test split (stratified)\n",
    "X_train, X_test, y_train, y_test = train_test_split(X, y, test_size=0.2, stratify=y, random_state=RANDOM_STATE)\n",
    "\n",
    "print('Train shape:', X_train.shape, 'Test shape:', X_test.shape)\n",
    "print('Positive ratio (train):', y_train.mean(), 'Positive ratio (test):', y_test.mean())"
   ]
  },
  {
   "cell_type": "code",
   "execution_count": 29,
   "id": "ac010b9d",
   "metadata": {},
   "outputs": [],
   "source": [
    "def make_rf():\n",
    "    return RandomForestClassifier(\n",
    "        n_estimators=500,\n",
    "        n_jobs=-1,\n",
    "        random_state=RANDOM_STATE\n",
    "    )\n",
    "\n",
    "pipelines = {\n",
    "    \"rf_only\": Pipeline([\n",
    "        (\"rf\", make_rf())\n",
    "    ]),\n",
    "\n",
    "    \"undersampling\": Pipeline([\n",
    "        (\"under\", RandomUnderSampler(\n",
    "            sampling_strategy=0.3,\n",
    "            random_state=RANDOM_STATE\n",
    "        )),\n",
    "        (\"rf\", make_rf())\n",
    "    ]),\n",
    "\n",
    "    \"oversampling\": Pipeline([\n",
    "        (\"over\", RandomOverSampler(\n",
    "            sampling_strategy=1.0,\n",
    "            random_state=RANDOM_STATE\n",
    "        )),\n",
    "        (\"rf\", make_rf())\n",
    "    ]),\n",
    "\n",
    "    \"tomek\": Pipeline([\n",
    "        (\"tomek\", TomekLinks()),\n",
    "        (\"rf\", make_rf())\n",
    "    ]),\n",
    "\n",
    "    \"smote\": Pipeline([\n",
    "        (\"smote\", SMOTE(\n",
    "            sampling_strategy=0.2,\n",
    "            k_neighbors=7,\n",
    "            random_state=RANDOM_STATE\n",
    "        )),\n",
    "        (\"rf\", make_rf())\n",
    "    ]),\n",
    "\n",
    "    \"smote_tomek\": Pipeline([\n",
    "        (\"smote\", SMOTE(\n",
    "            sampling_strategy=0.2,\n",
    "            k_neighbors=7,\n",
    "            random_state=RANDOM_STATE\n",
    "        )),\n",
    "        (\"tomek\", TomekLinks()),\n",
    "        (\"rf\", make_rf())\n",
    "    ]),\n",
    "\n",
    "    \"adasyn\": Pipeline([\n",
    "        (\"adasyn\", ADASYN(\n",
    "            sampling_strategy=1.0,\n",
    "            n_neighbors=5,\n",
    "            random_state=RANDOM_STATE\n",
    "        )),\n",
    "        (\"rf\", make_rf())\n",
    "    ]),\n",
    "\n",
    "    \"adasyn_tomek\": Pipeline([\n",
    "        (\"adasyn\", ADASYN(\n",
    "            sampling_strategy=1.0,\n",
    "            n_neighbors=5,\n",
    "            random_state=RANDOM_STATE\n",
    "        )),\n",
    "        (\"tomek\", TomekLinks()),\n",
    "        (\"rf\", make_rf())\n",
    "    ]),\n",
    "\n",
    "    \"class_weight_balanced\": Pipeline([\n",
    "        (\"rf\", RandomForestClassifier(\n",
    "            n_estimators=500,\n",
    "            class_weight=\"balanced\",\n",
    "            random_state=RANDOM_STATE,\n",
    "            n_jobs=-1\n",
    "        ))\n",
    "    ]),\n",
    "\n",
    "    \"class_weight_manual\": Pipeline([\n",
    "        (\"rf\", RandomForestClassifier(\n",
    "            n_estimators=500,\n",
    "            class_weight={0: 1, 1: 10},\n",
    "            random_state=RANDOM_STATE,\n",
    "            n_jobs=-1\n",
    "        ))\n",
    "    ])\n",
    "}\n"
   ]
  },
  {
   "cell_type": "code",
   "execution_count": 30,
   "id": "06651d2f",
   "metadata": {},
   "outputs": [
    {
     "name": "stdout",
     "output_type": "stream",
     "text": [
      "Fitting rf_only\n",
      "Fitting undersampling\n",
      "Fitting oversampling\n",
      "Fitting tomek\n",
      "Fitting smote\n",
      "Fitting smote_tomek\n",
      "Fitting adasyn\n",
      "Fitting adasyn_tomek\n",
      "Fitting class_weight_balanced\n",
      "Fitting class_weight_manual\n"
     ]
    },
    {
     "data": {
      "text/plain": [
       "(10,\n",
       " ['rf_only',\n",
       "  'undersampling',\n",
       "  'oversampling',\n",
       "  'tomek',\n",
       "  'smote',\n",
       "  'smote_tomek',\n",
       "  'adasyn',\n",
       "  'adasyn_tomek',\n",
       "  'class_weight_balanced',\n",
       "  'class_weight_manual'])"
      ]
     },
     "execution_count": 30,
     "metadata": {},
     "output_type": "execute_result"
    }
   ],
   "source": [
    "# Fit all pipelines on training data\n",
    "fitted_pipelines = {}\n",
    "for name, pipe in pipelines.items():\n",
    "    try:\n",
    "        print('Fitting', name)\n",
    "        pipe.fit(X_train, y_train)\n",
    "        fitted_pipelines[name] = pipe\n",
    "    except Exception as e:\n",
    "        print('Error fitting', name, e)\n",
    "\n",
    "len(fitted_pipelines), list(fitted_pipelines.keys())"
   ]
  },
  {
   "cell_type": "code",
   "execution_count": 34,
   "id": "249b8521",
   "metadata": {},
   "outputs": [
    {
     "name": "stdout",
     "output_type": "stream",
     "text": [
      "                   Model  precision    recall        f1  specificity  \\\n",
      "0          undersampling   0.254717  0.843750  0.391304     0.995725   \n",
      "1            smote_tomek   0.838710  0.812500  0.825397     0.999729   \n",
      "2                  smote   0.838710  0.812500  0.825397     0.999729   \n",
      "3           adasyn_tomek   0.836066  0.796875  0.816000     0.999729   \n",
      "4                 adasyn   0.836066  0.796875  0.816000     0.999729   \n",
      "5                rf_only   0.979167  0.734375  0.839286     0.999973   \n",
      "6           oversampling   0.979167  0.734375  0.839286     0.999973   \n",
      "7                  tomek   0.959184  0.734375  0.831858     0.999946   \n",
      "8    class_weight_manual   0.979167  0.734375  0.839286     0.999973   \n",
      "9  class_weight_balanced   0.978723  0.718750  0.828829     0.999973   \n",
      "\n",
      "     pr_auc  fraud_capture_rate  net_savings     tn   fp  fn  tp  \n",
      "0  0.638243             84.3750      3636.19  36803  158  10  54  \n",
      "1  0.828243             81.2500       678.95  36951   10  12  52  \n",
      "2  0.824117             81.2500       678.95  36951   10  12  52  \n",
      "3  0.814411             79.6875        40.55  36951   10  13  51  \n",
      "4  0.813134             79.6875        40.55  36951   10  13  51  \n",
      "5  0.806777             73.4375      -656.31  36960    1  17  47  \n",
      "6  0.801435             73.4375      -456.03  36960    1  17  47  \n",
      "7  0.807375             73.4375      -432.41  36959    2  17  47  \n",
      "8  0.804964             73.4375      -656.31  36960    1  17  47  \n",
      "9  0.800288             71.8750      -458.03  36960    1  18  46  \n"
     ]
    }
   ],
   "source": [
    "import pandas as pd\n",
    "from sklearn.metrics import (\n",
    "    precision_score, recall_score, f1_score,\n",
    "    confusion_matrix, average_precision_score\n",
    ")\n",
    "\n",
    "# -------------------------------\n",
    "# Unified Fraud Evaluation\n",
    "# -------------------------------\n",
    "def evaluate_fraud_model(y_true, y_pred, y_proba, transaction_amounts, cost_fp=1, cost_fn_factor=1.0):\n",
    "    \"\"\"\n",
    "    Evaluate fraud detection model performance with ML and business metrics.\n",
    "    \n",
    "    Parameters\n",
    "    ----------\n",
    "    y_true : array-like\n",
    "        True labels (1 = fraud, 0 = normal).\n",
    "    y_pred : array-like\n",
    "        Predicted labels (1 = fraud, 0 = normal).\n",
    "    y_proba : array-like\n",
    "        Predicted probabilities for fraud class (for PR-AUC).\n",
    "    transaction_amounts : array-like\n",
    "        Dollar amount of each transaction.\n",
    "    cost_fp : float\n",
    "        Cost of investigating a false positive.\n",
    "    cost_fn_factor : float\n",
    "        Multiplier for fraud cost if missed (1.0 = full loss).\n",
    "        \n",
    "    Returns\n",
    "    -------\n",
    "    dict\n",
    "        Metrics including precision, recall, f1, specificity, PR-AUC,\n",
    "        fraud capture rate, net savings, and confusion matrix counts.\n",
    "    \"\"\"\n",
    "    # Confusion matrix\n",
    "    tn, fp, fn, tp = confusion_matrix(y_true, y_pred).ravel()\n",
    "\n",
    "    # Classification metrics\n",
    "    precision = precision_score(y_true, y_pred, zero_division=0)\n",
    "    recall = recall_score(y_true, y_pred, zero_division=0)\n",
    "    f1 = f1_score(y_true, y_pred, zero_division=0)\n",
    "    specificity = tn / (tn + fp) if (tn + fp) > 0 else 0\n",
    "\n",
    "    # Probability-based metric\n",
    "    pr_auc = average_precision_score(y_true, y_proba)\n",
    "\n",
    "    # Business metrics\n",
    "    fraud_capture_rate = recall  # recall is capture rate\n",
    "    savings_detected = transaction_amounts[(y_true == 1) & (y_pred == 1)].sum()\n",
    "    losses_missed = transaction_amounts[(y_true == 1) & (y_pred == 0)].sum() * cost_fn_factor\n",
    "    investigation_costs = fp * cost_fp\n",
    "    net_savings = savings_detected - losses_missed - investigation_costs\n",
    "\n",
    "    return {\n",
    "        \"precision\": precision,\n",
    "        \"recall\": recall,\n",
    "        \"f1\": f1,\n",
    "        \"specificity\": specificity,\n",
    "        \"pr_auc\": pr_auc,\n",
    "        \"fraud_capture_rate\": fraud_capture_rate * 100,\n",
    "        \"net_savings\": net_savings,\n",
    "        \"tn\": tn, \"fp\": fp, \"fn\": fn, \"tp\": tp\n",
    "    }\n",
    "\n",
    "def compare_models(y_true, transaction_amounts, **model_outputs):\n",
    "    \"\"\"\n",
    "    Compare multiple models using unified fraud metrics.\n",
    "    \n",
    "    model_outputs = { \"model_name\": (y_pred, y_proba), ... }\n",
    "    \"\"\"\n",
    "    results = []\n",
    "    for model_name, (y_pred, y_proba) in model_outputs.items():\n",
    "        metrics = evaluate_fraud_model(y_true, y_pred, y_proba, transaction_amounts)\n",
    "        metrics[\"model\"] = model_name\n",
    "        results.append(metrics)\n",
    "    return pd.DataFrame(results).set_index(\"model\").sort_values(by=\"fraud_capture_rate\", ascending=False)\n",
    "\n",
    "\n",
    "# -------------------------------\n",
    "# Run evaluation on fitted pipelines\n",
    "# -------------------------------\n",
    "predictions = {}\n",
    "for name, pipe in fitted_pipelines.items():\n",
    "    y_pred = pipe.predict(X_test)\n",
    "    y_proba = pipe.predict_proba(X_test)[:, 1]  # probability of fraud\n",
    "    predictions[name] = (y_pred, y_proba)\n",
    "\n",
    "results_df = compare_models(\n",
    "    y_true=y_test,\n",
    "    transaction_amounts=X_test[\"Amount\"],\n",
    "    **predictions\n",
    ").reset_index().rename(columns={\"model\": \"Model\"})\n",
    "\n",
    "\n",
    "print(results_df)"
   ]
  },
  {
   "cell_type": "code",
   "execution_count": 37,
   "id": "5539a945",
   "metadata": {},
   "outputs": [
    {
     "data": {
      "image/png": "[encoded data removed]",
      "text/plain": [
       "<Figure size 1200x600 with 2 Axes>"
      ]
     },
     "metadata": {},
     "output_type": "display_data"
    }
   ],
   "source": [
    "import matplotlib.pyplot as plt\n",
    "import numpy as np\n",
    "\n",
    "x = np.arange(len(results_df))\n",
    "bar_width = 0.35\n",
    "\n",
    "fig, ax1 = plt.subplots(figsize=(12,6))\n",
    "\n",
    "# --- Bar chart for Net Savings ---\n",
    "ax1.bar(x, results_df[\"net_savings\"],\n",
    "        width=bar_width, color=\"navy\", alpha=0.8, label=\"Net Savings\")\n",
    "\n",
    "ax1.set_xlabel(\"Model\")\n",
    "ax1.set_ylabel(\"Net Savings ($)\", color=\"navy\")\n",
    "ax1.tick_params(axis=\"y\", labelcolor=\"navy\")\n",
    "ax1.set_xticks(x)\n",
    "ax1.set_xticklabels(results_df.index, rotation=45, ha=\"right\")\n",
    "\n",
    "# --- Secondary axis ---\n",
    "ax2 = ax1.twinx()\n",
    "ax2.plot(x, results_df[\"fraud_capture_rate\"],\n",
    "         color=\"red\", marker=\"o\", linewidth=2, label=\"Fraud Capture Rate (%)\")\n",
    "ax2.plot(x, results_df[\"specificity\"]*100,\n",
    "         color=\"green\", marker=\"s\", linewidth=2, label=\"Specificity (%)\")\n",
    "ax2.plot(x, results_df[\"pr_auc\"]*100,\n",
    "         color=\"orange\", marker=\"^\", linewidth=2, label=\"PR-AUC (%)\")\n",
    "\n",
    "ax2.set_ylabel(\"Rate (%)\", color=\"black\")\n",
    "ax2.tick_params(axis=\"y\", labelcolor=\"black\")\n",
    "\n",
    "# Legends\n",
    "fig.legend(loc=\"upper center\", bbox_to_anchor=(0.5, 1.05),\n",
    "           ncol=4, frameon=False)\n",
    "\n",
    "plt.title(\"Fraud Model Comparison\")\n",
    "plt.tight_layout()\n",
    "plt.show()"
   ]
  },
  {
   "cell_type": "code",
   "execution_count": null,
   "id": "ec36c41e-5c97-4046-95c6-464d65656a93",
   "metadata": {},
   "outputs": [],
   "source": [
    "print(\"==========Untuned Random Forest==========\")\n",
    "print(f\"Training F1 Score: {f1_score(y_train, rf_untuned_train):.4f}\")\n",
    "\n",
    "print(\"Validation Set performance:\\n\", classification_report(y_val, rf_untuned_val))\n",
    "print(\"Validation Set Confusion Matrix:\\n\", pd.DataFrame(confusion_matrix(y_val, rf_untuned_val)))"
   ]
  },
  {
   "cell_type": "code",
   "execution_count": 40,
   "id": "ca7f93b5-3f07-4130-a4c0-66a6430babf2",
   "metadata": {
    "execution": {
     "iopub.execute_input": "2025-09-29T14:20:13.356528Z",
     "iopub.status.busy": "2025-09-29T14:20:13.354355Z",
     "iopub.status.idle": "2025-09-29T14:20:13.856131Z",
     "shell.execute_reply": "2025-09-29T14:20:13.848309Z",
     "shell.execute_reply.started": "2025-09-29T14:20:13.356312Z"
    }
   },
   "outputs": [
    {
     "ename": "KeyError",
     "evalue": "'c'",
     "output_type": "error",
     "traceback": [
      "\u001b[0;31m---------------------------------------------------------------------------\u001b[0m",
      "\u001b[0;31mKeyError\u001b[0m                                  Traceback (most recent call last)",
      "Cell \u001b[0;32mIn[40], line 21\u001b[0m\n\u001b[1;32m     15\u001b[0m         merged[k] \u001b[38;5;241m=\u001b[39m dict1[k] \u001b[38;5;241m+\u001b[39m v\n\u001b[1;32m     16\u001b[0m     \u001b[38;5;28;01mreturn\u001b[39;00m merged\n\u001b[0;32m---> 21\u001b[0m \u001b[43mmerge_and_sum\u001b[49m\u001b[43m(\u001b[49m\u001b[43m{\u001b[49m\u001b[38;5;124;43m'\u001b[39;49m\u001b[38;5;124;43ma\u001b[39;49m\u001b[38;5;124;43m'\u001b[39;49m\u001b[43m:\u001b[49m\u001b[43m \u001b[49m\u001b[38;5;241;43m1\u001b[39;49m\u001b[43m,\u001b[49m\u001b[43m \u001b[49m\u001b[38;5;124;43m'\u001b[39;49m\u001b[38;5;124;43mb\u001b[39;49m\u001b[38;5;124;43m'\u001b[39;49m\u001b[43m:\u001b[49m\u001b[43m \u001b[49m\u001b[38;5;241;43m2\u001b[39;49m\u001b[43m}\u001b[49m\u001b[43m,\u001b[49m\u001b[43m \u001b[49m\u001b[43m{\u001b[49m\u001b[38;5;124;43m'\u001b[39;49m\u001b[38;5;124;43mb\u001b[39;49m\u001b[38;5;124;43m'\u001b[39;49m\u001b[43m:\u001b[49m\u001b[43m \u001b[49m\u001b[38;5;241;43m3\u001b[39;49m\u001b[43m,\u001b[49m\u001b[43m \u001b[49m\u001b[38;5;124;43m'\u001b[39;49m\u001b[38;5;124;43mc\u001b[39;49m\u001b[38;5;124;43m'\u001b[39;49m\u001b[43m:\u001b[49m\u001b[43m \u001b[49m\u001b[38;5;241;43m4\u001b[39;49m\u001b[43m}\u001b[49m\u001b[43m)\u001b[49m\n",
      "Cell \u001b[0;32mIn[40], line 15\u001b[0m, in \u001b[0;36mmerge_and_sum\u001b[0;34m(dict1, dict2)\u001b[0m\n\u001b[1;32m     13\u001b[0m merged \u001b[38;5;241m=\u001b[39m dict1\u001b[38;5;241m.\u001b[39mcopy()\n\u001b[1;32m     14\u001b[0m \u001b[38;5;28;01mfor\u001b[39;00m k, v \u001b[38;5;129;01min\u001b[39;00m dict2\u001b[38;5;241m.\u001b[39mitems():\n\u001b[0;32m---> 15\u001b[0m     merged[k] \u001b[38;5;241m=\u001b[39m \u001b[43mdict1\u001b[49m\u001b[43m[\u001b[49m\u001b[43mk\u001b[49m\u001b[43m]\u001b[49m \u001b[38;5;241m+\u001b[39m v\n\u001b[1;32m     16\u001b[0m \u001b[38;5;28;01mreturn\u001b[39;00m merged\n",
      "\u001b[0;31mKeyError\u001b[0m: 'c'"
     ]
    }
   ],
   "source": [
    "def merge_and_sum(dict1, dict2):\n",
    "    merged = dict1.copy()\n",
    "    for k, v in dict2.items():\n",
    "        if k in merged:\n",
    "            merged[k] += v\n",
    "        else:\n",
    "            merged[k] = v\n",
    "    return merged\n",
    "\n",
    "merge_and_sum({'a': 1, 'b': 2}, {'b': 3, 'c': 4})"
   ]
  },
  {
   "cell_type": "markdown",
   "id": "a6e3752e-83a2-4537-8921-31a47df1c976",
   "metadata": {},
   "source": [
    "<div style=\"background-color: #215880; padding: 10px; border-radius: 5px;\">\n",
    "    <h3 style=\"color: #e6f1fa; font-size: 30px; font-weight: bold; margin: 10px;\">CONCLUSION AND RECOMMENDATIONS</h3>\n",
    "</div>"
   ]
  },
  {
   "cell_type": "markdown",
   "id": "75741868-6385-4c40-a70d-b837f987feff",
   "metadata": {},
   "source": [
    "<div style=\"background-color: #215880; padding: 10px; border-radius: 5px;\">\n",
    "    <h3 style=\"color: #e6f1fa; font-size: 30px; font-weight: bold; margin: 10px;\">SUPPLEMENTARY MATERIALS</h3>\n",
    "</div>"
   ]
  },
  {
   "cell_type": "markdown",
   "id": "412d206d-4652-4e85-ab1c-a6d944f85d80",
   "metadata": {},
   "source": [
    "<div style=\"background-color: #215880; padding: 10px; border-radius: 5px;\">\n",
    "    <h3 style=\"color: #e6f1fa; font-size: 30px; font-weight: bold; margin: 10px;\">REFERENCES</h3>\n",
    "</div>"
   ]
  }
 ],
 "metadata": {
  "kernelspec": {
   "display_name": "Python 3",
   "language": "python",
   "name": "python3"
  },
  "language_info": {
   "codemirror_mode": {
    "name": "ipython",
    "version": 3
   },
   "file_extension": ".py",
   "mimetype": "text/x-python",
   "name": "python",
   "nbconvert_exporter": "python",
   "pygments_lexer": "ipython3",
   "version": "3.13.7"
  }
 },
 "nbformat": 4,
 "nbformat_minor": 5
}
