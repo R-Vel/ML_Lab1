{
 "cells": [
  {
   "cell_type": "code",
   "execution_count": 1,
   "id": "9dbaf8bd-4418-48cc-ae6b-6c27c29addc7",
   "metadata": {
    "execution": {
     "iopub.execute_input": "2025-09-18T08:27:17.426727Z",
     "iopub.status.busy": "2025-09-18T08:27:17.426400Z",
     "iopub.status.idle": "2025-09-18T08:27:20.381383Z",
     "shell.execute_reply": "2025-09-18T08:27:20.380295Z",
     "shell.execute_reply.started": "2025-09-18T08:27:17.426702Z"
    }
   },
   "outputs": [],
   "source": [
    "import pandas as pd\n",
    "import seaborn as sns\n",
    "import matplotlib.pyplot as plt\n",
    "\n",
    "from sklearn.preprocessing import StandardScaler #\n",
    "from sklearn.model_selection import train_test_split, RandomizedSearchCV, StratifiedKFold\n",
    "from sklearn.pipeline import Pipeline\n",
    "from sklearn.metrics import classification_report, f1_score, confusion_matrix\n",
    "\n",
    "#not sure if this is allowed\n",
    "from imblearn.under_sampling import RandomUnderSampler\n",
    "from imblearn.over_sampling import RandomOverSampler, SMOTE\n",
    "\n",
    "#temporary\n",
    "from collections import Counter\n",
    "\n",
    "from model import FraudDetector\n",
    "\n",
    "%load_ext autoreload\n",
    "%autoreload 2"
   ]
  },
  {
   "cell_type": "code",
   "execution_count": 2,
   "id": "2b0c8c2e-8078-48df-b314-50c639484628",
   "metadata": {
    "execution": {
     "iopub.execute_input": "2025-09-18T08:27:20.382524Z",
     "iopub.status.busy": "2025-09-18T08:27:20.382094Z",
     "iopub.status.idle": "2025-09-18T08:27:22.200590Z",
     "shell.execute_reply": "2025-09-18T08:27:22.199639Z",
     "shell.execute_reply.started": "2025-09-18T08:27:20.382501Z"
    }
   },
   "outputs": [
    {
     "data": {
      "text/html": [
       "<div>\n",
       "<style scoped>\n",
       "    .dataframe tbody tr th:only-of-type {\n",
       "        vertical-align: middle;\n",
       "    }\n",
       "\n",
       "    .dataframe tbody tr th {\n",
       "        vertical-align: top;\n",
       "    }\n",
       "\n",
       "    .dataframe thead th {\n",
       "        text-align: right;\n",
       "    }\n",
       "</style>\n",
       "<table border=\"1\" class=\"dataframe\">\n",
       "  <thead>\n",
       "    <tr style=\"text-align: right;\">\n",
       "      <th></th>\n",
       "      <th>tid</th>\n",
       "      <th>V1</th>\n",
       "      <th>V2</th>\n",
       "      <th>V3</th>\n",
       "      <th>V4</th>\n",
       "      <th>V5</th>\n",
       "      <th>V6</th>\n",
       "      <th>V7</th>\n",
       "      <th>V8</th>\n",
       "      <th>V9</th>\n",
       "      <th>...</th>\n",
       "      <th>V21</th>\n",
       "      <th>V22</th>\n",
       "      <th>V23</th>\n",
       "      <th>V24</th>\n",
       "      <th>V25</th>\n",
       "      <th>V26</th>\n",
       "      <th>V27</th>\n",
       "      <th>V28</th>\n",
       "      <th>Amount</th>\n",
       "      <th>outcome</th>\n",
       "    </tr>\n",
       "  </thead>\n",
       "  <tbody>\n",
       "    <tr>\n",
       "      <th>0</th>\n",
       "      <td>49b18cea-beb8-413d-b268-a0ec12a4147c</td>\n",
       "      <td>1.423808</td>\n",
       "      <td>-0.377568</td>\n",
       "      <td>0.242070</td>\n",
       "      <td>-0.697073</td>\n",
       "      <td>-0.763104</td>\n",
       "      <td>-0.731960</td>\n",
       "      <td>-0.367360</td>\n",
       "      <td>-0.278617</td>\n",
       "      <td>-0.996840</td>\n",
       "      <td>...</td>\n",
       "      <td>-0.469381</td>\n",
       "      <td>-0.810630</td>\n",
       "      <td>0.034175</td>\n",
       "      <td>-0.063592</td>\n",
       "      <td>0.252775</td>\n",
       "      <td>0.975686</td>\n",
       "      <td>-0.047713</td>\n",
       "      <td>0.008093</td>\n",
       "      <td>10.00</td>\n",
       "      <td>0</td>\n",
       "    </tr>\n",
       "    <tr>\n",
       "      <th>1</th>\n",
       "      <td>0d1de000-6756-4441-8133-e0ed75b72979</td>\n",
       "      <td>0.386691</td>\n",
       "      <td>1.932803</td>\n",
       "      <td>-1.958157</td>\n",
       "      <td>1.795148</td>\n",
       "      <td>0.597989</td>\n",
       "      <td>-1.752021</td>\n",
       "      <td>0.567382</td>\n",
       "      <td>0.225227</td>\n",
       "      <td>-0.614899</td>\n",
       "      <td>...</td>\n",
       "      <td>-0.037188</td>\n",
       "      <td>0.066752</td>\n",
       "      <td>0.232243</td>\n",
       "      <td>0.269168</td>\n",
       "      <td>-0.566513</td>\n",
       "      <td>-0.403250</td>\n",
       "      <td>0.151074</td>\n",
       "      <td>-0.044239</td>\n",
       "      <td>3.99</td>\n",
       "      <td>0</td>\n",
       "    </tr>\n",
       "    <tr>\n",
       "      <th>2</th>\n",
       "      <td>dc548f8c-ecd2-4fee-8a80-f2de7e2c7bd6</td>\n",
       "      <td>-0.822247</td>\n",
       "      <td>1.349695</td>\n",
       "      <td>-2.533342</td>\n",
       "      <td>-1.510371</td>\n",
       "      <td>2.429420</td>\n",
       "      <td>3.097419</td>\n",
       "      <td>-0.337696</td>\n",
       "      <td>1.778629</td>\n",
       "      <td>-0.306968</td>\n",
       "      <td>...</td>\n",
       "      <td>-0.280728</td>\n",
       "      <td>-0.954416</td>\n",
       "      <td>0.226719</td>\n",
       "      <td>0.589009</td>\n",
       "      <td>-0.325611</td>\n",
       "      <td>0.173346</td>\n",
       "      <td>0.110327</td>\n",
       "      <td>-0.006745</td>\n",
       "      <td>14.55</td>\n",
       "      <td>0</td>\n",
       "    </tr>\n",
       "    <tr>\n",
       "      <th>3</th>\n",
       "      <td>f105abf5-0c4c-4e79-9a8a-59de254e58dc</td>\n",
       "      <td>-0.679009</td>\n",
       "      <td>0.452323</td>\n",
       "      <td>1.256676</td>\n",
       "      <td>-1.163474</td>\n",
       "      <td>-0.871992</td>\n",
       "      <td>-0.413326</td>\n",
       "      <td>-0.319045</td>\n",
       "      <td>0.414021</td>\n",
       "      <td>-1.479641</td>\n",
       "      <td>...</td>\n",
       "      <td>0.171611</td>\n",
       "      <td>0.365879</td>\n",
       "      <td>-0.164711</td>\n",
       "      <td>0.366073</td>\n",
       "      <td>0.089739</td>\n",
       "      <td>-0.314979</td>\n",
       "      <td>-0.185542</td>\n",
       "      <td>-0.032110</td>\n",
       "      <td>10.00</td>\n",
       "      <td>0</td>\n",
       "    </tr>\n",
       "    <tr>\n",
       "      <th>4</th>\n",
       "      <td>164a2881-40c6-43ba-b53e-cd1e5a9e8cee</td>\n",
       "      <td>1.174152</td>\n",
       "      <td>-0.493073</td>\n",
       "      <td>-0.136508</td>\n",
       "      <td>-1.375827</td>\n",
       "      <td>-0.506841</td>\n",
       "      <td>-0.760343</td>\n",
       "      <td>0.066490</td>\n",
       "      <td>-0.174785</td>\n",
       "      <td>1.165490</td>\n",
       "      <td>...</td>\n",
       "      <td>-0.061790</td>\n",
       "      <td>-0.016600</td>\n",
       "      <td>-0.226672</td>\n",
       "      <td>0.107551</td>\n",
       "      <td>0.738778</td>\n",
       "      <td>-0.010159</td>\n",
       "      <td>-0.008166</td>\n",
       "      <td>0.006128</td>\n",
       "      <td>68.54</td>\n",
       "      <td>0</td>\n",
       "    </tr>\n",
       "  </tbody>\n",
       "</table>\n",
       "<p>5 rows × 31 columns</p>\n",
       "</div>"
      ],
      "text/plain": [
       "                                    tid        V1        V2        V3  \\\n",
       "0  49b18cea-beb8-413d-b268-a0ec12a4147c  1.423808 -0.377568  0.242070   \n",
       "1  0d1de000-6756-4441-8133-e0ed75b72979  0.386691  1.932803 -1.958157   \n",
       "2  dc548f8c-ecd2-4fee-8a80-f2de7e2c7bd6 -0.822247  1.349695 -2.533342   \n",
       "3  f105abf5-0c4c-4e79-9a8a-59de254e58dc -0.679009  0.452323  1.256676   \n",
       "4  164a2881-40c6-43ba-b53e-cd1e5a9e8cee  1.174152 -0.493073 -0.136508   \n",
       "\n",
       "         V4        V5        V6        V7        V8        V9  ...       V21  \\\n",
       "0 -0.697073 -0.763104 -0.731960 -0.367360 -0.278617 -0.996840  ... -0.469381   \n",
       "1  1.795148  0.597989 -1.752021  0.567382  0.225227 -0.614899  ... -0.037188   \n",
       "2 -1.510371  2.429420  3.097419 -0.337696  1.778629 -0.306968  ... -0.280728   \n",
       "3 -1.163474 -0.871992 -0.413326 -0.319045  0.414021 -1.479641  ...  0.171611   \n",
       "4 -1.375827 -0.506841 -0.760343  0.066490 -0.174785  1.165490  ... -0.061790   \n",
       "\n",
       "        V22       V23       V24       V25       V26       V27       V28  \\\n",
       "0 -0.810630  0.034175 -0.063592  0.252775  0.975686 -0.047713  0.008093   \n",
       "1  0.066752  0.232243  0.269168 -0.566513 -0.403250  0.151074 -0.044239   \n",
       "2 -0.954416  0.226719  0.589009 -0.325611  0.173346  0.110327 -0.006745   \n",
       "3  0.365879 -0.164711  0.366073  0.089739 -0.314979 -0.185542 -0.032110   \n",
       "4 -0.016600 -0.226672  0.107551  0.738778 -0.010159 -0.008166  0.006128   \n",
       "\n",
       "   Amount  outcome  \n",
       "0   10.00        0  \n",
       "1    3.99        0  \n",
       "2   14.55        0  \n",
       "3   10.00        0  \n",
       "4   68.54        0  \n",
       "\n",
       "[5 rows x 31 columns]"
      ]
     },
     "execution_count": 2,
     "metadata": {},
     "output_type": "execute_result"
    }
   ],
   "source": [
    "data = pd.read_csv(\"historical.csv\")\n",
    "data.head()"
   ]
  },
  {
   "cell_type": "markdown",
   "id": "d5870ab4-d170-4947-bf83-3f149e12f113",
   "metadata": {},
   "source": [
    "# EDA"
   ]
  },
  {
   "cell_type": "code",
   "execution_count": 3,
   "id": "4a9ca4d2-0b56-48fd-9dfc-ca83505b4b56",
   "metadata": {
    "execution": {
     "iopub.execute_input": "2025-09-18T08:27:22.201790Z",
     "iopub.status.busy": "2025-09-18T08:27:22.201534Z",
     "iopub.status.idle": "2025-09-18T08:27:22.375542Z",
     "shell.execute_reply": "2025-09-18T08:27:22.373862Z",
     "shell.execute_reply.started": "2025-09-18T08:27:22.201767Z"
    }
   },
   "outputs": [
    {
     "data": {
      "image/png": "[encoded data removed]",
      "text/plain": [
       "<Figure size 640x480 with 1 Axes>"
      ]
     },
     "metadata": {},
     "output_type": "display_data"
    }
   ],
   "source": [
    "target = data[\"outcome\"]\n",
    "class_mapping = {0: \"normal (0)\", 1: \"diabetic (1)\"}\n",
    "target.map(class_mapping).value_counts().plot.bar(rot=0)\n",
    "plt.ylabel(\"Count\")\n",
    "plt.show()"
   ]
  },
  {
   "cell_type": "code",
   "execution_count": 4,
   "id": "8ebe88fb-f83a-4437-99f7-7b950459f2fc",
   "metadata": {
    "execution": {
     "iopub.execute_input": "2025-09-18T08:27:22.378037Z",
     "iopub.status.busy": "2025-09-18T08:27:22.377409Z",
     "iopub.status.idle": "2025-09-18T08:27:31.118858Z",
     "shell.execute_reply": "2025-09-18T08:27:31.117873Z",
     "shell.execute_reply.started": "2025-09-18T08:27:22.377983Z"
    }
   },
   "outputs": [
    {
     "data": {
      "text/plain": [
       "<Axes: xlabel='V1', ylabel='V2'>"
      ]
     },
     "execution_count": 4,
     "metadata": {},
     "output_type": "execute_result"
    },
    {
     "data": {
      "image/png": "[encoded data removed]",
      "text/plain": [
       "<Figure size 640x480 with 1 Axes>"
      ]
     },
     "metadata": {},
     "output_type": "display_data"
    }
   ],
   "source": [
    "sns.scatterplot(x=data[\"V1\"], y=data[\"V2\"], hue=target)"
   ]
  },
  {
   "cell_type": "code",
   "execution_count": 5,
   "id": "6d47fa2c-e24b-4998-9192-ad8d467ab956",
   "metadata": {
    "execution": {
     "iopub.execute_input": "2025-09-18T08:27:31.123433Z",
     "iopub.status.busy": "2025-09-18T08:27:31.123227Z",
     "iopub.status.idle": "2025-09-18T08:27:31.163280Z",
     "shell.execute_reply": "2025-09-18T08:27:31.162272Z",
     "shell.execute_reply.started": "2025-09-18T08:27:31.123409Z"
    }
   },
   "outputs": [
    {
     "data": {
      "text/plain": [
       "outcome\n",
       "0    184804\n",
       "1       320\n",
       "Name: count, dtype: int64"
      ]
     },
     "execution_count": 5,
     "metadata": {},
     "output_type": "execute_result"
    }
   ],
   "source": [
    "target.value_counts()"
   ]
  },
  {
   "cell_type": "markdown",
   "id": "890bee11-e443-4305-bc52-b206de280200",
   "metadata": {},
   "source": [
    "# Baseline: See results of Random Forest without balancing classes"
   ]
  },
  {
   "cell_type": "code",
   "execution_count": 6,
   "id": "c5374996-7c7e-485b-af64-19f9b21d9a44",
   "metadata": {
    "execution": {
     "iopub.execute_input": "2025-09-18T08:27:56.155037Z",
     "iopub.status.busy": "2025-09-18T08:27:56.154336Z",
     "iopub.status.idle": "2025-09-18T08:27:56.423930Z",
     "shell.execute_reply": "2025-09-18T08:27:56.423025Z",
     "shell.execute_reply.started": "2025-09-18T08:27:56.154979Z"
    }
   },
   "outputs": [
    {
     "name": "stdout",
     "output_type": "stream",
     "text": [
      "X_train shape: (111074, 29)\n",
      "X_val shape: (37025, 29)\n"
     ]
    }
   ],
   "source": [
    "# Separate features (PCA & Amount) from target\n",
    "X, y = data.iloc[:, 1:-1], data.iloc[:, -1]\n",
    "\n",
    "# 20% of entire data is the hold-out set\n",
    "X_Train, X_test, y_Train, y_test = train_test_split(\n",
    "    X, y, test_size=0.2, random_state=0, stratify=target\n",
    ")\n",
    "\n",
    "# 20% of entire data is validation set while 60% is the train set\n",
    "X_train, X_val, y_train, y_val = train_test_split(\n",
    "    X_Train, y_Train, test_size=0.25, random_state=0, stratify=y_Train\n",
    ")\n",
    "\n",
    "# print out the training and validation set sizes\n",
    "print(f\"X_train shape: {X_train.shape}\")\n",
    "print(f\"X_val shape: {X_val.shape}\")"
   ]
  },
  {
   "cell_type": "markdown",
   "id": "f13d9a68-e43f-46e3-b653-e667b1d6b074",
   "metadata": {},
   "source": [
    "## Without scaler"
   ]
  },
  {
   "cell_type": "code",
   "execution_count": 7,
   "id": "37ab7ce4-ecfe-4778-956f-97e915b37a69",
   "metadata": {
    "execution": {
     "iopub.execute_input": "2025-09-18T08:27:58.665963Z",
     "iopub.status.busy": "2025-09-18T08:27:58.665248Z",
     "iopub.status.idle": "2025-09-18T08:36:33.229980Z",
     "shell.execute_reply": "2025-09-18T08:36:33.228642Z",
     "shell.execute_reply.started": "2025-09-18T08:27:58.665907Z"
    },
    "scrolled": true
   },
   "outputs": [],
   "source": [
    "rf_untuned = Pipeline(\n",
    "    [(\"clf\", FraudDetector())]\n",
    ")\n",
    "\n",
    "rf_untuned.fit(X_train, y_train)\n",
    "\n",
    "# Measure performance on validation set\n",
    "\n",
    "rf_untuned_train = rf_untuned.predict(X_train) # We have to measure train performance manually\n",
    "rf_untuned_val = rf_untuned.predict(X_val)   "
   ]
  },
  {
   "cell_type": "code",
   "execution_count": 8,
   "id": "ade65608-4249-49bc-ad5a-ee0fd4ccbf40",
   "metadata": {
    "execution": {
     "iopub.execute_input": "2025-09-18T08:45:44.045886Z",
     "iopub.status.busy": "2025-09-18T08:45:44.045064Z",
     "iopub.status.idle": "2025-09-18T08:45:44.329839Z",
     "shell.execute_reply": "2025-09-18T08:45:44.328935Z",
     "shell.execute_reply.started": "2025-09-18T08:45:44.045813Z"
    }
   },
   "outputs": [
    {
     "name": "stdout",
     "output_type": "stream",
     "text": [
      "==========Untuned Logistic Regression==========\n",
      "Training F1 Score: 1.0000\n",
      "Validation Set performance:\n",
      "               precision    recall  f1-score   support\n",
      "\n",
      "           0       1.00      1.00      1.00     36961\n",
      "           1       0.96      0.75      0.84        64\n",
      "\n",
      "    accuracy                           1.00     37025\n",
      "   macro avg       0.98      0.87      0.92     37025\n",
      "weighted avg       1.00      1.00      1.00     37025\n",
      "\n",
      "Validation Set Confusion Matrix:\n",
      "        0   1\n",
      "0  36959   2\n",
      "1     16  48\n"
     ]
    }
   ],
   "source": [
    "print(\"==========Untuned Logistic Regression==========\")\n",
    "print(f\"Training F1 Score: {f1_score(y_train, rf_untuned_train):.4f}\")\n",
    "\n",
    "print(\"Validation Set performance:\\n\", classification_report(y_val, rf_untuned_val))\n",
    "print(\"Validation Set Confusion Matrix:\\n\", pd.DataFrame(confusion_matrix(y_val, rf_untuned_val)))"
   ]
  },
  {
   "cell_type": "markdown",
   "id": "31f92fe9-fbc6-424a-97e1-3319dd5755e6",
   "metadata": {
    "jp-MarkdownHeadingCollapsed": true
   },
   "source": [
    "## With Scaler (I don't think this is needed for Random Forest, but just be safe)\n",
    "\n",
    "- Update: no changes. so just remove this in final report"
   ]
  },
  {
   "cell_type": "code",
   "execution_count": 61,
   "id": "efbd0d83-3e10-4f65-be1d-ae93608dedd3",
   "metadata": {
    "execution": {
     "iopub.execute_input": "2025-09-17T14:05:54.673175Z",
     "iopub.status.busy": "2025-09-17T14:05:54.672457Z",
     "iopub.status.idle": "2025-09-17T14:14:26.151202Z",
     "shell.execute_reply": "2025-09-17T14:14:26.149784Z",
     "shell.execute_reply.started": "2025-09-17T14:05:54.673117Z"
    }
   },
   "outputs": [],
   "source": [
    "rf_scaled_untuned = Pipeline(\n",
    "    [(\"scaler\", StandardScaler()),\n",
    "     (\"clf\", FraudDetector())]\n",
    ")\n",
    "\n",
    "rf_scaled_untuned.fit(X_train, y_train)\n",
    "\n",
    "# Measure performance on validation set\n",
    "\n",
    "rf_scaled_untuned_train = rf_scaled_untuned.predict(X_train) # We have to measure train performance manually\n",
    "rf_scaled_untuned_val = rf_scaled_untuned.predict(X_val)   "
   ]
  },
  {
   "cell_type": "code",
   "execution_count": 62,
   "id": "3fd31d82-4f63-4164-b349-50ebe002c386",
   "metadata": {
    "execution": {
     "iopub.execute_input": "2025-09-17T14:14:45.838404Z",
     "iopub.status.busy": "2025-09-17T14:14:45.837712Z",
     "iopub.status.idle": "2025-09-17T14:14:46.075545Z",
     "shell.execute_reply": "2025-09-17T14:14:46.074653Z",
     "shell.execute_reply.started": "2025-09-17T14:14:45.838348Z"
    }
   },
   "outputs": [
    {
     "name": "stdout",
     "output_type": "stream",
     "text": [
      "==========Untuned Logistic Regression==========\n",
      "Training F1 Score: 1.0000\n",
      "Validation Set performance:\n",
      "               precision    recall  f1-score   support\n",
      "\n",
      "           0       1.00      1.00      1.00     36961\n",
      "           1       0.96      0.75      0.84        64\n",
      "\n",
      "    accuracy                           1.00     37025\n",
      "   macro avg       0.98      0.87      0.92     37025\n",
      "weighted avg       1.00      1.00      1.00     37025\n",
      "\n",
      "Validation Set Confusion Matrix:\n",
      "        0   1\n",
      "0  36959   2\n",
      "1     16  48\n"
     ]
    }
   ],
   "source": [
    "print(\"==========Untuned Logistic Regression==========\")\n",
    "print(f\"Training F1 Score: {f1_score(y_train, rf_scaled_untuned_train):.4f}\")\n",
    "\n",
    "print(\"Validation Set performance:\\n\", classification_report(y_val, rf_scaled_untuned_val))\n",
    "print(\"Validation Set Confusion Matrix:\\n\", pd.DataFrame(confusion_matrix(y_val, rf_scaled_untuned_val)))"
   ]
  },
  {
   "cell_type": "markdown",
   "id": "f44a3d52-e910-4f6f-8231-abcea8b0fc6b",
   "metadata": {},
   "source": [
    "## Tuning through Stratified KFold (temporary)\n",
    "- so far, model.py does not allow tuning of random forest parameters... so focus on model imbalance for now"
   ]
  },
  {
   "cell_type": "code",
   "execution_count": null,
   "id": "2a78c9ae-2eb0-4ed7-90d7-d056b05b2988",
   "metadata": {},
   "outputs": [],
   "source": [
    "#[1e-5, 1e-3, 1e-2, 0.1, 0.2, 0.4, 0.75, 1, 1.5, 3, 5, 10, 20, 100] \n",
    "#[0.001, 0.01, 0.1, 1.0, 10, 100] "
   ]
  },
  {
   "cell_type": "code",
   "execution_count": 80,
   "id": "d4969b99-f389-482f-9856-5e8195102fe3",
   "metadata": {
    "execution": {
     "iopub.execute_input": "2025-09-17T14:40:08.013760Z",
     "iopub.status.busy": "2025-09-17T14:40:08.013057Z",
     "iopub.status.idle": "2025-09-17T14:40:08.164232Z",
     "shell.execute_reply": "2025-09-17T14:40:08.162433Z",
     "shell.execute_reply.started": "2025-09-17T14:40:08.013703Z"
    }
   },
   "outputs": [
    {
     "data": {
      "text/plain": [
       "\"rf_params = {\\n    'clf__n_estimators': [20, 50, 100],\\n    'clf__max_depth': [10, 20, 30, None],\\n    'clf__min_samples_split': [2, 5, 10],\\n    'clf__class_weight': [None, 'balanced', 'balanced_subsample'],\\n}\""
      ]
     },
     "execution_count": 80,
     "metadata": {},
     "output_type": "execute_result"
    }
   ],
   "source": [
    "\"\"\"rf_params = {\n",
    "    'clf__n_estimators': [20, 50, 100],\n",
    "    'clf__max_depth': [10, 20, 30, None],\n",
    "    'clf__min_samples_split': [2, 5, 10],\n",
    "    'clf__class_weight': [None, 'balanced', 'balanced_subsample'],\n",
    "}\"\"\""
   ]
  },
  {
   "cell_type": "code",
   "execution_count": 81,
   "id": "ee9b3833-5e1e-4d88-8def-e366a60f24b7",
   "metadata": {
    "execution": {
     "iopub.execute_input": "2025-09-17T14:40:08.166201Z",
     "iopub.status.busy": "2025-09-17T14:40:08.165820Z",
     "iopub.status.idle": "2025-09-17T14:40:08.201385Z",
     "shell.execute_reply": "2025-09-17T14:40:08.200525Z",
     "shell.execute_reply.started": "2025-09-17T14:40:08.166167Z"
    }
   },
   "outputs": [
    {
     "data": {
      "text/plain": [
       "'rf_tuning = Pipeline(\\n    [(\"clf\", FraudDetector())]\\n)\\n\\n# Stratify KFold to train model using train set\\nskf = StratifiedKFold(n_splits=5, random_state=0, shuffle=True)\\n\\nrcv = RandomizedSearchCV(rf_tuning, \\n                         rf_params, \\n                         random_state=0,\\n                         cv=skf)\\n\\nsearch = rcv.fit(X_train, y_train)\\n\\nbest_lr_params = search.best_params_\\nlr_tuned = search.best_estimator_\\n\\n# Measure performance on validation set\\nlr_tuned_train = lr_tuned.predict(X_train)\\nlr_tuned_val = lr_tuned.predict(X_val) '"
      ]
     },
     "execution_count": 81,
     "metadata": {},
     "output_type": "execute_result"
    }
   ],
   "source": [
    "\"\"\"rf_tuning = Pipeline(\n",
    "    [(\"clf\", FraudDetector())]\n",
    ")\n",
    "\n",
    "# Stratify KFold to train model using train set\n",
    "skf = StratifiedKFold(n_splits=5, random_state=0, shuffle=True)\n",
    "\n",
    "rcv = RandomizedSearchCV(rf_tuning, \n",
    "                         rf_params, \n",
    "                         random_state=0,\n",
    "                         cv=skf)\n",
    "\n",
    "search = rcv.fit(X_train, y_train)\n",
    "\n",
    "best_lr_params = search.best_params_\n",
    "lr_tuned = search.best_estimator_\n",
    "\n",
    "# Measure performance on validation set\n",
    "lr_tuned_train = lr_tuned.predict(X_train)\n",
    "lr_tuned_val = lr_tuned.predict(X_val) \"\"\""
   ]
  },
  {
   "cell_type": "code",
   "execution_count": null,
   "id": "4be66e33-f75d-4da8-b97b-9c6d35d78f56",
   "metadata": {},
   "outputs": [],
   "source": [
    "\"\"\"print(\"==========Untuned Logistic Regression==========\")\n",
    "print(f\"Training F1 Score: {f1_score(y_train, rf_tuned_train):.4f}\")\n",
    "\n",
    "print(\"Validation Set performance:\\n\", classification_report(y_val, rf_tuned_val))\n",
    "print(\"Validation Set Confusion Matrix:\\n\", pd.DataFrame(confusion_matrix(y_val, rf_tuned_val)))\"\"\"\""
   ]
  },
  {
   "cell_type": "markdown",
   "id": "bdf57c8c-4519-4b7d-9090-3e64c4fec94a",
   "metadata": {},
   "source": [
    "## Random Undersampling"
   ]
  },
  {
   "cell_type": "code",
   "execution_count": 9,
   "id": "0e6d9397-1cd8-47a2-bcb1-06a20bbb5094",
   "metadata": {
    "execution": {
     "iopub.execute_input": "2025-09-18T08:45:50.028992Z",
     "iopub.status.busy": "2025-09-18T08:45:50.028256Z",
     "iopub.status.idle": "2025-09-18T08:45:50.074448Z",
     "shell.execute_reply": "2025-09-18T08:45:50.073240Z",
     "shell.execute_reply.started": "2025-09-18T08:45:50.028933Z"
    }
   },
   "outputs": [],
   "source": [
    "seed = 39 # follows random state of model.py"
   ]
  },
  {
   "cell_type": "code",
   "execution_count": 10,
   "id": "259c3344-2ee9-4af9-a22f-7b0333b3dcde",
   "metadata": {
    "execution": {
     "iopub.execute_input": "2025-09-18T08:45:50.498273Z",
     "iopub.status.busy": "2025-09-18T08:45:50.497561Z",
     "iopub.status.idle": "2025-09-18T08:45:50.544762Z",
     "shell.execute_reply": "2025-09-18T08:45:50.543807Z",
     "shell.execute_reply.started": "2025-09-18T08:45:50.498213Z"
    }
   },
   "outputs": [],
   "source": [
    "us_model = Pipeline(\n",
    "    [(\"clf\", FraudDetector())]\n",
    ")"
   ]
  },
  {
   "cell_type": "code",
   "execution_count": 11,
   "id": "1839ebda-c4c8-44ab-a9aa-a0a5a72fcf5d",
   "metadata": {
    "execution": {
     "iopub.execute_input": "2025-09-18T08:45:50.711390Z",
     "iopub.status.busy": "2025-09-18T08:45:50.710705Z",
     "iopub.status.idle": "2025-09-18T08:45:50.793652Z",
     "shell.execute_reply": "2025-09-18T08:45:50.793120Z",
     "shell.execute_reply.started": "2025-09-18T08:45:50.711332Z"
    }
   },
   "outputs": [],
   "source": [
    "# Let's create resampled X_train samples\n",
    "\n",
    "# Note that we're using X_train -- the one where we don't have the validation set anymore\n",
    "rus = RandomUnderSampler(random_state=seed)\n",
    "X_train_us, y_train_us = rus.fit_resample(X_train, y_train)"
   ]
  },
  {
   "cell_type": "code",
   "execution_count": 12,
   "id": "72bd5127-3797-4119-b984-e090292f55f0",
   "metadata": {
    "execution": {
     "iopub.execute_input": "2025-09-18T08:45:50.925753Z",
     "iopub.status.busy": "2025-09-18T08:45:50.925046Z",
     "iopub.status.idle": "2025-09-18T08:45:52.914937Z",
     "shell.execute_reply": "2025-09-18T08:45:52.913968Z",
     "shell.execute_reply.started": "2025-09-18T08:45:50.925686Z"
    }
   },
   "outputs": [],
   "source": [
    "# Model Training\n",
    "us_model.fit(X_train_us, y_train_us)\n",
    "\n",
    "# Check on the validation set\n",
    "us_preds = us_model.predict(X_val)"
   ]
  },
  {
   "cell_type": "code",
   "execution_count": 13,
   "id": "118c827b-dfed-486f-83bf-24b46389cc41",
   "metadata": {
    "execution": {
     "iopub.execute_input": "2025-09-18T08:45:52.916175Z",
     "iopub.status.busy": "2025-09-18T08:45:52.915943Z",
     "iopub.status.idle": "2025-09-18T08:45:52.991397Z",
     "shell.execute_reply": "2025-09-18T08:45:52.990846Z",
     "shell.execute_reply.started": "2025-09-18T08:45:52.916155Z"
    }
   },
   "outputs": [
    {
     "name": "stdout",
     "output_type": "stream",
     "text": [
      "Random Under Sampling Performance on the Validation Set:\n",
      "\n",
      "Training F1 Score: 0.1005\n",
      "              precision    recall  f1-score   support\n",
      "\n",
      "           0       1.00      0.97      0.99     36961\n",
      "           1       0.05      0.94      0.10        64\n",
      "\n",
      "    accuracy                           0.97     37025\n",
      "   macro avg       0.53      0.95      0.54     37025\n",
      "weighted avg       1.00      0.97      0.98     37025\n",
      "\n",
      "Validation Set Confusion Matrix:\n",
      "        0     1\n",
      "0  35891  1070\n",
      "1      4    60\n"
     ]
    }
   ],
   "source": [
    "print(\"Random Under Sampling Performance on the Validation Set:\\n\")\n",
    "print(f\"Training F1 Score: {f1_score(y_val, us_preds):.4f}\")\n",
    "print(classification_report(y_val, us_preds))\n",
    "print(\"Validation Set Confusion Matrix:\\n\", pd.DataFrame(confusion_matrix(y_val, us_preds)))"
   ]
  },
  {
   "cell_type": "markdown",
   "id": "2ca21bdd-db79-489d-b001-f5b7ca0ce3bc",
   "metadata": {},
   "source": [
    "## Random Oversampling"
   ]
  },
  {
   "cell_type": "code",
   "execution_count": 14,
   "id": "64362d95-eff6-4e2c-aa00-f888daae46c0",
   "metadata": {
    "execution": {
     "iopub.execute_input": "2025-09-18T08:45:52.992213Z",
     "iopub.status.busy": "2025-09-18T08:45:52.992000Z",
     "iopub.status.idle": "2025-09-18T08:45:53.016473Z",
     "shell.execute_reply": "2025-09-18T08:45:53.015850Z",
     "shell.execute_reply.started": "2025-09-18T08:45:52.992194Z"
    }
   },
   "outputs": [],
   "source": [
    "os_model = Pipeline(\n",
    "    [(\"clf\", FraudDetector())]\n",
    ")"
   ]
  },
  {
   "cell_type": "code",
   "execution_count": 15,
   "id": "204222f2-8388-4a1e-8c98-7e9ed31aacac",
   "metadata": {
    "execution": {
     "iopub.execute_input": "2025-09-18T08:45:53.017896Z",
     "iopub.status.busy": "2025-09-18T08:45:53.017674Z",
     "iopub.status.idle": "2025-09-18T08:45:53.152341Z",
     "shell.execute_reply": "2025-09-18T08:45:53.151714Z",
     "shell.execute_reply.started": "2025-09-18T08:45:53.017876Z"
    }
   },
   "outputs": [],
   "source": [
    "# Let's create resampled X_train samples\n",
    "\n",
    "# Note that we're using X_train -- the one where we don't have the validation set anymore\n",
    "ros = RandomOverSampler(random_state=seed)\n",
    "X_train_os, y_train_os = ros.fit_resample(X_train, y_train)"
   ]
  },
  {
   "cell_type": "code",
   "execution_count": 16,
   "id": "c2296d86-493f-4dac-9144-eaec21566edb",
   "metadata": {
    "execution": {
     "iopub.execute_input": "2025-09-18T08:45:53.153208Z",
     "iopub.status.busy": "2025-09-18T08:45:53.152992Z",
     "iopub.status.idle": "2025-09-18T08:52:01.544138Z",
     "shell.execute_reply": "2025-09-18T08:52:01.542574Z",
     "shell.execute_reply.started": "2025-09-18T08:45:53.153188Z"
    }
   },
   "outputs": [],
   "source": [
    "# Model Training\n",
    "os_model.fit(X_train_os, y_train_os)\n",
    "\n",
    "# Check on the validation set\n",
    "os_preds = os_model.predict(X_val)"
   ]
  },
  {
   "cell_type": "code",
   "execution_count": 17,
   "id": "26e26a29-f713-4bdb-bb8e-e42007724641",
   "metadata": {
    "execution": {
     "iopub.execute_input": "2025-09-18T08:52:01.547573Z",
     "iopub.status.busy": "2025-09-18T08:52:01.547051Z",
     "iopub.status.idle": "2025-09-18T08:52:01.762081Z",
     "shell.execute_reply": "2025-09-18T08:52:01.761198Z",
     "shell.execute_reply.started": "2025-09-18T08:52:01.547523Z"
    }
   },
   "outputs": [
    {
     "name": "stdout",
     "output_type": "stream",
     "text": [
      "Random Over Sampling Performance on the Validation Set:\n",
      "\n",
      "Training F1 Score: 0.8522\n",
      "              precision    recall  f1-score   support\n",
      "\n",
      "           0       1.00      1.00      1.00     36961\n",
      "           1       0.96      0.77      0.85        64\n",
      "\n",
      "    accuracy                           1.00     37025\n",
      "   macro avg       0.98      0.88      0.93     37025\n",
      "weighted avg       1.00      1.00      1.00     37025\n",
      "\n",
      "Validation Set Confusion Matrix:\n",
      "        0   1\n",
      "0  36959   2\n",
      "1     15  49\n"
     ]
    }
   ],
   "source": [
    "print(\"Random Over Sampling Performance on the Validation Set:\\n\")\n",
    "print(f\"Training F1 Score: {f1_score(y_val, os_preds):.4f}\")\n",
    "print(classification_report(y_val, os_preds))\n",
    "print(\"Validation Set Confusion Matrix:\\n\", pd.DataFrame(confusion_matrix(y_val, os_preds)))"
   ]
  },
  {
   "cell_type": "markdown",
   "id": "11050038-5856-4e64-860e-90ffc2a4b29d",
   "metadata": {},
   "source": [
    "very minimal improvement (0.75 -> 0.77)"
   ]
  },
  {
   "cell_type": "markdown",
   "id": "40309b68-5ac1-41f1-b6a9-67936b6efdfd",
   "metadata": {},
   "source": [
    "## SMOTE Untuned"
   ]
  },
  {
   "cell_type": "code",
   "execution_count": 20,
   "id": "728dea80-a51b-41f3-826c-59b0c911512f",
   "metadata": {
    "execution": {
     "iopub.execute_input": "2025-09-18T11:08:53.488605Z",
     "iopub.status.busy": "2025-09-18T11:08:53.486920Z",
     "iopub.status.idle": "2025-09-18T11:08:53.531645Z",
     "shell.execute_reply": "2025-09-18T11:08:53.530613Z",
     "shell.execute_reply.started": "2025-09-18T11:08:53.488545Z"
    }
   },
   "outputs": [],
   "source": [
    "smote_model = Pipeline(\n",
    "    [(\"clf\", FraudDetector())]\n",
    ")"
   ]
  },
  {
   "cell_type": "code",
   "execution_count": 18,
   "id": "dceeed1d-4f92-4d57-ab9f-95dcd85a94bf",
   "metadata": {
    "execution": {
     "iopub.execute_input": "2025-09-18T08:52:01.762863Z",
     "iopub.status.busy": "2025-09-18T08:52:01.762674Z",
     "iopub.status.idle": "2025-09-18T08:52:01.992485Z",
     "shell.execute_reply": "2025-09-18T08:52:01.991539Z",
     "shell.execute_reply.started": "2025-09-18T08:52:01.762847Z"
    }
   },
   "outputs": [],
   "source": [
    "# Let's create resampled X_train samples\n",
    "\n",
    "smote = SMOTE(random_state=seed, k_neighbors=5)\n",
    "X_train_smote, y_train_smote = smote.fit_resample(X_train, y_train)"
   ]
  },
  {
   "cell_type": "code",
   "execution_count": null,
   "id": "00449910-fa55-4ba3-8f7b-877138bdcc07",
   "metadata": {
    "execution": {
     "iopub.execute_input": "2025-09-18T11:08:56.112943Z",
     "iopub.status.busy": "2025-09-18T11:08:56.112205Z"
    }
   },
   "outputs": [],
   "source": [
    "smote_model.fit(X_train_smote, y_train_smote)\n",
    "smote_preds = smote_model.predict(X_val)"
   ]
  },
  {
   "cell_type": "code",
   "execution_count": null,
   "id": "9630f0c3-b3b0-406d-a262-e03198ef7451",
   "metadata": {},
   "outputs": [],
   "source": [
    "print(\"SMOTE Sampling Performance on the Validation Set:\\n\")\n",
    "print(classification_report(y_val, smote_preds))\n",
    "print(\"Validation Set Confusion Matrix:\\n\", pd.DataFrame(confusion_matrix(y_val, smote_preds)))"
   ]
  },
  {
   "cell_type": "code",
   "execution_count": null,
   "id": "374e9823-ba7c-4f1f-b06c-94f4ea03bafa",
   "metadata": {},
   "outputs": [],
   "source": [
    "print(f\"Class instance count before SMOTE: {Counter(y_train)}\")\n",
    "print(f\"Class instance count after SMOTE: {Counter(y_train_smote)}\")\n",
    "print(\"-\" * 65)\n",
    "\n",
    "# PLOTTING\n",
    "datasets = [X_train, X_train_smote]\n",
    "\n",
    "## Plotting proper\n",
    "fig, axes = plt.subplots(1, 2, figsize=(10, 5))\n",
    "names = [\"Original\", \"SMOTE\"]\n",
    "targets = [y_train, y_train_smote]\n",
    "for i, ax in enumerate(axes):\n",
    "    curr_data = datasets[i]\n",
    "    sns.scatterplot(x=curr_data[:, 0], y=curr_data[:, 1], ax=ax, hue=targets[i])\n",
    "    ax.set_title(names[i])\n",
    "plt.tight_layout()"
   ]
  },
  {
   "cell_type": "markdown",
   "id": "53f670b1-47d0-4ad3-9800-708b060e1434",
   "metadata": {},
   "source": [
    "## SMOTE Tuned"
   ]
  },
  {
   "cell_type": "code",
   "execution_count": null,
   "id": "f3d587c6-c21d-4ff4-b54b-255d251c8df1",
   "metadata": {},
   "outputs": [],
   "source": [
    "smote_tuning_model = Pipeline(\n",
    "    [\n",
    "        (\"smote\", SMOTE(random_state=seed))\n",
    "        (\"clf\", FraudDetector())\n",
    "    ]\n",
    ")"
   ]
  },
  {
   "cell_type": "code",
   "execution_count": null,
   "id": "d74126d5-3a6e-4715-b27c-82208a84e112",
   "metadata": {},
   "outputs": [],
   "source": [
    "params = {\"smote__k_neighbors\"=range(1, 11)}\n",
    "\n",
    "# Model training\n",
    "skf = StratifiedKFold(n_splits=5, random_state=32, shuffle=True)\n",
    "\n",
    "rcv = RandomizedSearchCV(smote_tuning_model, params, random_state=seed, scoring='f1', cv=skf)\n",
    "search = rcv.fit(X_train, y_train)\n",
    "\n",
    "best_smote_params = search.best_params_\n",
    "print(best_smote_params)"
   ]
  },
  {
   "cell_type": "code",
   "execution_count": null,
   "id": "228714c9-6f39-4e8f-84d2-d1ab9c55802f",
   "metadata": {},
   "outputs": [],
   "source": [
    "cv_scores = { key.split(\"_\")[0] : value for key, value in search.cv_results_.items() if \"split\" in key }\n",
    "train_scores = pd.DataFrame(cv_scores)\n",
    "train_scores[\"k\"] = range(1, 11)\n",
    "\n",
    "flat_df = train_scores.melt(id_vars=\"k\")\n",
    "\n",
    "plt.figure(figsize=(12, 5))\n",
    "sns.lineplot(data=flat_df, x=\"k\", y=\"value\")\n",
    "plt.axvline(3, linestyle=\"--\", color=\"red\", alpha=1)\n",
    "plt.ylabel(\"F1 Score\")\n",
    "plt.xlabel(\"k_neighbors\")\n",
    "plt.show()"
   ]
  },
  {
   "cell_type": "markdown",
   "id": "e0f2d91a-a0b8-4f19-a47c-5be7ab0b51b7",
   "metadata": {
    "jp-MarkdownHeadingCollapsed": true
   },
   "source": [
    "## Kalats Incorrect versions"
   ]
  },
  {
   "cell_type": "code",
   "execution_count": 116,
   "id": "697365cf-5e28-4556-87d4-40234ff95216",
   "metadata": {
    "execution": {
     "iopub.execute_input": "2025-09-18T04:55:29.666824Z",
     "iopub.status.busy": "2025-09-18T04:55:29.666113Z",
     "iopub.status.idle": "2025-09-18T04:55:33.562094Z",
     "shell.execute_reply": "2025-09-18T04:55:33.560248Z",
     "shell.execute_reply.started": "2025-09-18T04:55:29.666765Z"
    }
   },
   "outputs": [
    {
     "name": "stdout",
     "output_type": "stream",
     "text": [
      "Counter({0: 110882, 1: 192}) Counter({0: 192, 1: 192})\n"
     ]
    }
   ],
   "source": [
    "rf_untuned = Pipeline(\n",
    "    [(\"clf\", FraudDetector(\"undersample\"))]\n",
    ")\n",
    "\n",
    "rf_untuned.fit(X_train, y_train)\n",
    "\n",
    "rf_untuned_train = rf_untuned.predict(X_train) # We have to measure train performance manually\n",
    "rf_untuned_val = rf_untuned.predict(X_val) "
   ]
  },
  {
   "cell_type": "code",
   "execution_count": 117,
   "id": "3d8838de-9a5e-4157-b383-150fd3bc3fcf",
   "metadata": {
    "execution": {
     "iopub.execute_input": "2025-09-18T04:55:33.563322Z",
     "iopub.status.busy": "2025-09-18T04:55:33.563100Z",
     "iopub.status.idle": "2025-09-18T04:55:33.661582Z",
     "shell.execute_reply": "2025-09-18T04:55:33.660688Z",
     "shell.execute_reply.started": "2025-09-18T04:55:33.563303Z"
    }
   },
   "outputs": [
    {
     "name": "stdout",
     "output_type": "stream",
     "text": [
      "==========Undersampling==========\n",
      "Training F1 Score: 0.1009\n",
      "Validation Set performance:\n",
      "               precision    recall  f1-score   support\n",
      "\n",
      "           0       1.00      0.97      0.99     36961\n",
      "           1       0.05      0.94      0.10        64\n",
      "\n",
      "    accuracy                           0.97     37025\n",
      "   macro avg       0.53      0.95      0.54     37025\n",
      "weighted avg       1.00      0.97      0.98     37025\n",
      "\n",
      "Validation Set Confusion Matrix:\n",
      "        0     1\n",
      "0  35891  1070\n",
      "1      4    60\n"
     ]
    }
   ],
   "source": [
    "print(\"==========Undersampling==========\")\n",
    "print(f\"Training F1 Score: {f1_score(y_train, rf_untuned_train):.4f}\")\n",
    "\n",
    "print(\"Validation Set performance:\\n\", classification_report(y_val, rf_untuned_val))\n",
    "print(\"Validation Set Confusion Matrix:\\n\", pd.DataFrame(confusion_matrix(y_val, rf_untuned_val)))"
   ]
  },
  {
   "cell_type": "markdown",
   "id": "5d3bd02d-844a-4f74-80a8-b72a96136a05",
   "metadata": {},
   "source": [
    "tldr: f1 score for the fraud is really bad (mainly due to the precision metric)"
   ]
  },
  {
   "cell_type": "code",
   "execution_count": 118,
   "id": "89cf2bab-1396-4e30-a048-767ca02c9f4b",
   "metadata": {
    "execution": {
     "iopub.execute_input": "2025-09-18T04:55:52.775236Z",
     "iopub.status.busy": "2025-09-18T04:55:52.774526Z",
     "iopub.status.idle": "2025-09-18T04:58:33.765187Z",
     "shell.execute_reply": "2025-09-18T04:58:33.763994Z",
     "shell.execute_reply.started": "2025-09-18T04:55:52.775180Z"
    }
   },
   "outputs": [
    {
     "name": "stdout",
     "output_type": "stream",
     "text": [
      "Counter({0: 110882, 1: 192}) Counter({0: 110882, 1: 110882})\n"
     ]
    },
    {
     "ename": "KeyboardInterrupt",
     "evalue": "",
     "output_type": "error",
     "traceback": [
      "\u001b[0;31m---------------------------------------------------------------------------\u001b[0m",
      "\u001b[0;31mKeyboardInterrupt\u001b[0m                         Traceback (most recent call last)",
      "Cell \u001b[0;32mIn[118], line 5\u001b[0m\n\u001b[1;32m      1\u001b[0m rf_untuned \u001b[38;5;241m=\u001b[39m Pipeline(\n\u001b[1;32m      2\u001b[0m     [(\u001b[38;5;124m\"\u001b[39m\u001b[38;5;124mclf\u001b[39m\u001b[38;5;124m\"\u001b[39m, FraudDetector(\u001b[38;5;124m\"\u001b[39m\u001b[38;5;124moversample\u001b[39m\u001b[38;5;124m\"\u001b[39m))]\n\u001b[1;32m      3\u001b[0m )\n\u001b[0;32m----> 5\u001b[0m \u001b[43mrf_untuned\u001b[49m\u001b[38;5;241;43m.\u001b[39;49m\u001b[43mfit\u001b[49m\u001b[43m(\u001b[49m\u001b[43mX_train\u001b[49m\u001b[43m,\u001b[49m\u001b[43m \u001b[49m\u001b[43my_train\u001b[49m\u001b[43m)\u001b[49m\n\u001b[1;32m      7\u001b[0m rf_untuned_train \u001b[38;5;241m=\u001b[39m rf_untuned\u001b[38;5;241m.\u001b[39mpredict(X_train) \u001b[38;5;66;03m# We have to measure train performance manually\u001b[39;00m\n\u001b[1;32m      8\u001b[0m rf_untuned_val \u001b[38;5;241m=\u001b[39m rf_untuned\u001b[38;5;241m.\u001b[39mpredict(X_val) \n",
      "File \u001b[0;32m~/.local/lib/python3.12/site-packages/sklearn/base.py:1389\u001b[0m, in \u001b[0;36m_fit_context.<locals>.decorator.<locals>.wrapper\u001b[0;34m(estimator, *args, **kwargs)\u001b[0m\n\u001b[1;32m   1382\u001b[0m     estimator\u001b[38;5;241m.\u001b[39m_validate_params()\n\u001b[1;32m   1384\u001b[0m \u001b[38;5;28;01mwith\u001b[39;00m config_context(\n\u001b[1;32m   1385\u001b[0m     skip_parameter_validation\u001b[38;5;241m=\u001b[39m(\n\u001b[1;32m   1386\u001b[0m         prefer_skip_nested_validation \u001b[38;5;129;01mor\u001b[39;00m global_skip_validation\n\u001b[1;32m   1387\u001b[0m     )\n\u001b[1;32m   1388\u001b[0m ):\n\u001b[0;32m-> 1389\u001b[0m     \u001b[38;5;28;01mreturn\u001b[39;00m \u001b[43mfit_method\u001b[49m\u001b[43m(\u001b[49m\u001b[43mestimator\u001b[49m\u001b[43m,\u001b[49m\u001b[43m \u001b[49m\u001b[38;5;241;43m*\u001b[39;49m\u001b[43margs\u001b[49m\u001b[43m,\u001b[49m\u001b[43m \u001b[49m\u001b[38;5;241;43m*\u001b[39;49m\u001b[38;5;241;43m*\u001b[39;49m\u001b[43mkwargs\u001b[49m\u001b[43m)\u001b[49m\n",
      "File \u001b[0;32m~/.local/lib/python3.12/site-packages/sklearn/pipeline.py:662\u001b[0m, in \u001b[0;36mPipeline.fit\u001b[0;34m(self, X, y, **params)\u001b[0m\n\u001b[1;32m    656\u001b[0m     \u001b[38;5;28;01mif\u001b[39;00m \u001b[38;5;28mself\u001b[39m\u001b[38;5;241m.\u001b[39m_final_estimator \u001b[38;5;241m!=\u001b[39m \u001b[38;5;124m\"\u001b[39m\u001b[38;5;124mpassthrough\u001b[39m\u001b[38;5;124m\"\u001b[39m:\n\u001b[1;32m    657\u001b[0m         last_step_params \u001b[38;5;241m=\u001b[39m \u001b[38;5;28mself\u001b[39m\u001b[38;5;241m.\u001b[39m_get_metadata_for_step(\n\u001b[1;32m    658\u001b[0m             step_idx\u001b[38;5;241m=\u001b[39m\u001b[38;5;28mlen\u001b[39m(\u001b[38;5;28mself\u001b[39m) \u001b[38;5;241m-\u001b[39m \u001b[38;5;241m1\u001b[39m,\n\u001b[1;32m    659\u001b[0m             step_params\u001b[38;5;241m=\u001b[39mrouted_params[\u001b[38;5;28mself\u001b[39m\u001b[38;5;241m.\u001b[39msteps[\u001b[38;5;241m-\u001b[39m\u001b[38;5;241m1\u001b[39m][\u001b[38;5;241m0\u001b[39m]],\n\u001b[1;32m    660\u001b[0m             all_params\u001b[38;5;241m=\u001b[39mparams,\n\u001b[1;32m    661\u001b[0m         )\n\u001b[0;32m--> 662\u001b[0m         \u001b[38;5;28;43mself\u001b[39;49m\u001b[38;5;241;43m.\u001b[39;49m\u001b[43m_final_estimator\u001b[49m\u001b[38;5;241;43m.\u001b[39;49m\u001b[43mfit\u001b[49m\u001b[43m(\u001b[49m\u001b[43mXt\u001b[49m\u001b[43m,\u001b[49m\u001b[43m \u001b[49m\u001b[43my\u001b[49m\u001b[43m,\u001b[49m\u001b[43m \u001b[49m\u001b[38;5;241;43m*\u001b[39;49m\u001b[38;5;241;43m*\u001b[39;49m\u001b[43mlast_step_params\u001b[49m\u001b[43m[\u001b[49m\u001b[38;5;124;43m\"\u001b[39;49m\u001b[38;5;124;43mfit\u001b[39;49m\u001b[38;5;124;43m\"\u001b[39;49m\u001b[43m]\u001b[49m\u001b[43m)\u001b[49m\n\u001b[1;32m    664\u001b[0m \u001b[38;5;28;01mreturn\u001b[39;00m \u001b[38;5;28mself\u001b[39m\n",
      "File \u001b[0;32m~/ML2-notebooks/ML_Lab1/model.py:46\u001b[0m, in \u001b[0;36mFraudDetector.fit\u001b[0;34m(self, X, y, sample_weight)\u001b[0m\n\u001b[1;32m     44\u001b[0m X_balanced, y_balanced \u001b[38;5;241m=\u001b[39m \u001b[38;5;28mself\u001b[39m\u001b[38;5;241m.\u001b[39m_handle_imbalance(X, y) \u001b[38;5;66;03m# you can modify the parameters here if needed\u001b[39;00m\n\u001b[1;32m     45\u001b[0m \u001b[38;5;28;01mif\u001b[39;00m sample_weight \u001b[38;5;129;01mis\u001b[39;00m \u001b[38;5;28;01mNone\u001b[39;00m:\n\u001b[0;32m---> 46\u001b[0m     \u001b[38;5;28;43mself\u001b[39;49m\u001b[38;5;241;43m.\u001b[39;49m\u001b[43m_model_\u001b[49m\u001b[38;5;241;43m.\u001b[39;49m\u001b[43mfit\u001b[49m\u001b[43m(\u001b[49m\u001b[43mX_balanced\u001b[49m\u001b[43m,\u001b[49m\u001b[43m \u001b[49m\u001b[43my_balanced\u001b[49m\u001b[43m)\u001b[49m\n\u001b[1;32m     47\u001b[0m \u001b[38;5;28;01melse\u001b[39;00m:\n\u001b[1;32m     48\u001b[0m     \u001b[38;5;28mself\u001b[39m\u001b[38;5;241m.\u001b[39m_model_\u001b[38;5;241m.\u001b[39mfit(X_balanced, y_balanced, sample_weight\u001b[38;5;241m=\u001b[39msample_weight)\n",
      "File \u001b[0;32m~/.local/lib/python3.12/site-packages/sklearn/base.py:1389\u001b[0m, in \u001b[0;36m_fit_context.<locals>.decorator.<locals>.wrapper\u001b[0;34m(estimator, *args, **kwargs)\u001b[0m\n\u001b[1;32m   1382\u001b[0m     estimator\u001b[38;5;241m.\u001b[39m_validate_params()\n\u001b[1;32m   1384\u001b[0m \u001b[38;5;28;01mwith\u001b[39;00m config_context(\n\u001b[1;32m   1385\u001b[0m     skip_parameter_validation\u001b[38;5;241m=\u001b[39m(\n\u001b[1;32m   1386\u001b[0m         prefer_skip_nested_validation \u001b[38;5;129;01mor\u001b[39;00m global_skip_validation\n\u001b[1;32m   1387\u001b[0m     )\n\u001b[1;32m   1388\u001b[0m ):\n\u001b[0;32m-> 1389\u001b[0m     \u001b[38;5;28;01mreturn\u001b[39;00m \u001b[43mfit_method\u001b[49m\u001b[43m(\u001b[49m\u001b[43mestimator\u001b[49m\u001b[43m,\u001b[49m\u001b[43m \u001b[49m\u001b[38;5;241;43m*\u001b[39;49m\u001b[43margs\u001b[49m\u001b[43m,\u001b[49m\u001b[43m \u001b[49m\u001b[38;5;241;43m*\u001b[39;49m\u001b[38;5;241;43m*\u001b[39;49m\u001b[43mkwargs\u001b[49m\u001b[43m)\u001b[49m\n",
      "File \u001b[0;32m~/.local/lib/python3.12/site-packages/sklearn/ensemble/_forest.py:487\u001b[0m, in \u001b[0;36mBaseForest.fit\u001b[0;34m(self, X, y, sample_weight)\u001b[0m\n\u001b[1;32m    476\u001b[0m trees \u001b[38;5;241m=\u001b[39m [\n\u001b[1;32m    477\u001b[0m     \u001b[38;5;28mself\u001b[39m\u001b[38;5;241m.\u001b[39m_make_estimator(append\u001b[38;5;241m=\u001b[39m\u001b[38;5;28;01mFalse\u001b[39;00m, random_state\u001b[38;5;241m=\u001b[39mrandom_state)\n\u001b[1;32m    478\u001b[0m     \u001b[38;5;28;01mfor\u001b[39;00m i \u001b[38;5;129;01min\u001b[39;00m \u001b[38;5;28mrange\u001b[39m(n_more_estimators)\n\u001b[1;32m    479\u001b[0m ]\n\u001b[1;32m    481\u001b[0m \u001b[38;5;66;03m# Parallel loop: we prefer the threading backend as the Cython code\u001b[39;00m\n\u001b[1;32m    482\u001b[0m \u001b[38;5;66;03m# for fitting the trees is internally releasing the Python GIL\u001b[39;00m\n\u001b[1;32m    483\u001b[0m \u001b[38;5;66;03m# making threading more efficient than multiprocessing in\u001b[39;00m\n\u001b[1;32m    484\u001b[0m \u001b[38;5;66;03m# that case. However, for joblib 0.12+ we respect any\u001b[39;00m\n\u001b[1;32m    485\u001b[0m \u001b[38;5;66;03m# parallel_backend contexts set at a higher level,\u001b[39;00m\n\u001b[1;32m    486\u001b[0m \u001b[38;5;66;03m# since correctness does not rely on using threads.\u001b[39;00m\n\u001b[0;32m--> 487\u001b[0m trees \u001b[38;5;241m=\u001b[39m \u001b[43mParallel\u001b[49m\u001b[43m(\u001b[49m\n\u001b[1;32m    488\u001b[0m \u001b[43m    \u001b[49m\u001b[43mn_jobs\u001b[49m\u001b[38;5;241;43m=\u001b[39;49m\u001b[38;5;28;43mself\u001b[39;49m\u001b[38;5;241;43m.\u001b[39;49m\u001b[43mn_jobs\u001b[49m\u001b[43m,\u001b[49m\n\u001b[1;32m    489\u001b[0m \u001b[43m    \u001b[49m\u001b[43mverbose\u001b[49m\u001b[38;5;241;43m=\u001b[39;49m\u001b[38;5;28;43mself\u001b[39;49m\u001b[38;5;241;43m.\u001b[39;49m\u001b[43mverbose\u001b[49m\u001b[43m,\u001b[49m\n\u001b[1;32m    490\u001b[0m \u001b[43m    \u001b[49m\u001b[43mprefer\u001b[49m\u001b[38;5;241;43m=\u001b[39;49m\u001b[38;5;124;43m\"\u001b[39;49m\u001b[38;5;124;43mthreads\u001b[39;49m\u001b[38;5;124;43m\"\u001b[39;49m\u001b[43m,\u001b[49m\n\u001b[1;32m    491\u001b[0m \u001b[43m\u001b[49m\u001b[43m)\u001b[49m\u001b[43m(\u001b[49m\n\u001b[1;32m    492\u001b[0m \u001b[43m    \u001b[49m\u001b[43mdelayed\u001b[49m\u001b[43m(\u001b[49m\u001b[43m_parallel_build_trees\u001b[49m\u001b[43m)\u001b[49m\u001b[43m(\u001b[49m\n\u001b[1;32m    493\u001b[0m \u001b[43m        \u001b[49m\u001b[43mt\u001b[49m\u001b[43m,\u001b[49m\n\u001b[1;32m    494\u001b[0m \u001b[43m        \u001b[49m\u001b[38;5;28;43mself\u001b[39;49m\u001b[38;5;241;43m.\u001b[39;49m\u001b[43mbootstrap\u001b[49m\u001b[43m,\u001b[49m\n\u001b[1;32m    495\u001b[0m \u001b[43m        \u001b[49m\u001b[43mX\u001b[49m\u001b[43m,\u001b[49m\n\u001b[1;32m    496\u001b[0m \u001b[43m        \u001b[49m\u001b[43my\u001b[49m\u001b[43m,\u001b[49m\n\u001b[1;32m    497\u001b[0m \u001b[43m        \u001b[49m\u001b[43msample_weight\u001b[49m\u001b[43m,\u001b[49m\n\u001b[1;32m    498\u001b[0m \u001b[43m        \u001b[49m\u001b[43mi\u001b[49m\u001b[43m,\u001b[49m\n\u001b[1;32m    499\u001b[0m \u001b[43m        \u001b[49m\u001b[38;5;28;43mlen\u001b[39;49m\u001b[43m(\u001b[49m\u001b[43mtrees\u001b[49m\u001b[43m)\u001b[49m\u001b[43m,\u001b[49m\n\u001b[1;32m    500\u001b[0m \u001b[43m        \u001b[49m\u001b[43mverbose\u001b[49m\u001b[38;5;241;43m=\u001b[39;49m\u001b[38;5;28;43mself\u001b[39;49m\u001b[38;5;241;43m.\u001b[39;49m\u001b[43mverbose\u001b[49m\u001b[43m,\u001b[49m\n\u001b[1;32m    501\u001b[0m \u001b[43m        \u001b[49m\u001b[43mclass_weight\u001b[49m\u001b[38;5;241;43m=\u001b[39;49m\u001b[38;5;28;43mself\u001b[39;49m\u001b[38;5;241;43m.\u001b[39;49m\u001b[43mclass_weight\u001b[49m\u001b[43m,\u001b[49m\n\u001b[1;32m    502\u001b[0m \u001b[43m        \u001b[49m\u001b[43mn_samples_bootstrap\u001b[49m\u001b[38;5;241;43m=\u001b[39;49m\u001b[43mn_samples_bootstrap\u001b[49m\u001b[43m,\u001b[49m\n\u001b[1;32m    503\u001b[0m \u001b[43m        \u001b[49m\u001b[43mmissing_values_in_feature_mask\u001b[49m\u001b[38;5;241;43m=\u001b[39;49m\u001b[43mmissing_values_in_feature_mask\u001b[49m\u001b[43m,\u001b[49m\n\u001b[1;32m    504\u001b[0m \u001b[43m    \u001b[49m\u001b[43m)\u001b[49m\n\u001b[1;32m    505\u001b[0m \u001b[43m    \u001b[49m\u001b[38;5;28;43;01mfor\u001b[39;49;00m\u001b[43m \u001b[49m\u001b[43mi\u001b[49m\u001b[43m,\u001b[49m\u001b[43m \u001b[49m\u001b[43mt\u001b[49m\u001b[43m \u001b[49m\u001b[38;5;129;43;01min\u001b[39;49;00m\u001b[43m \u001b[49m\u001b[38;5;28;43menumerate\u001b[39;49m\u001b[43m(\u001b[49m\u001b[43mtrees\u001b[49m\u001b[43m)\u001b[49m\n\u001b[1;32m    506\u001b[0m \u001b[43m\u001b[49m\u001b[43m)\u001b[49m\n\u001b[1;32m    508\u001b[0m \u001b[38;5;66;03m# Collect newly grown trees\u001b[39;00m\n\u001b[1;32m    509\u001b[0m \u001b[38;5;28mself\u001b[39m\u001b[38;5;241m.\u001b[39mestimators_\u001b[38;5;241m.\u001b[39mextend(trees)\n",
      "File \u001b[0;32m~/.local/lib/python3.12/site-packages/sklearn/utils/parallel.py:77\u001b[0m, in \u001b[0;36mParallel.__call__\u001b[0;34m(self, iterable)\u001b[0m\n\u001b[1;32m     72\u001b[0m config \u001b[38;5;241m=\u001b[39m get_config()\n\u001b[1;32m     73\u001b[0m iterable_with_config \u001b[38;5;241m=\u001b[39m (\n\u001b[1;32m     74\u001b[0m     (_with_config(delayed_func, config), args, kwargs)\n\u001b[1;32m     75\u001b[0m     \u001b[38;5;28;01mfor\u001b[39;00m delayed_func, args, kwargs \u001b[38;5;129;01min\u001b[39;00m iterable\n\u001b[1;32m     76\u001b[0m )\n\u001b[0;32m---> 77\u001b[0m \u001b[38;5;28;01mreturn\u001b[39;00m \u001b[38;5;28;43msuper\u001b[39;49m\u001b[43m(\u001b[49m\u001b[43m)\u001b[49m\u001b[38;5;241;43m.\u001b[39;49m\u001b[38;5;21;43m__call__\u001b[39;49m\u001b[43m(\u001b[49m\u001b[43miterable_with_config\u001b[49m\u001b[43m)\u001b[49m\n",
      "File \u001b[0;32m~/.local/lib/python3.12/site-packages/joblib/parallel.py:1986\u001b[0m, in \u001b[0;36mParallel.__call__\u001b[0;34m(self, iterable)\u001b[0m\n\u001b[1;32m   1984\u001b[0m     output \u001b[38;5;241m=\u001b[39m \u001b[38;5;28mself\u001b[39m\u001b[38;5;241m.\u001b[39m_get_sequential_output(iterable)\n\u001b[1;32m   1985\u001b[0m     \u001b[38;5;28mnext\u001b[39m(output)\n\u001b[0;32m-> 1986\u001b[0m     \u001b[38;5;28;01mreturn\u001b[39;00m output \u001b[38;5;28;01mif\u001b[39;00m \u001b[38;5;28mself\u001b[39m\u001b[38;5;241m.\u001b[39mreturn_generator \u001b[38;5;28;01melse\u001b[39;00m \u001b[38;5;28;43mlist\u001b[39;49m\u001b[43m(\u001b[49m\u001b[43moutput\u001b[49m\u001b[43m)\u001b[49m\n\u001b[1;32m   1988\u001b[0m \u001b[38;5;66;03m# Let's create an ID that uniquely identifies the current call. If the\u001b[39;00m\n\u001b[1;32m   1989\u001b[0m \u001b[38;5;66;03m# call is interrupted early and that the same instance is immediately\u001b[39;00m\n\u001b[1;32m   1990\u001b[0m \u001b[38;5;66;03m# reused, this id will be used to prevent workers that were\u001b[39;00m\n\u001b[1;32m   1991\u001b[0m \u001b[38;5;66;03m# concurrently finalizing a task from the previous call to run the\u001b[39;00m\n\u001b[1;32m   1992\u001b[0m \u001b[38;5;66;03m# callback.\u001b[39;00m\n\u001b[1;32m   1993\u001b[0m \u001b[38;5;28;01mwith\u001b[39;00m \u001b[38;5;28mself\u001b[39m\u001b[38;5;241m.\u001b[39m_lock:\n",
      "File \u001b[0;32m~/.local/lib/python3.12/site-packages/joblib/parallel.py:1914\u001b[0m, in \u001b[0;36mParallel._get_sequential_output\u001b[0;34m(self, iterable)\u001b[0m\n\u001b[1;32m   1912\u001b[0m \u001b[38;5;28mself\u001b[39m\u001b[38;5;241m.\u001b[39mn_dispatched_batches \u001b[38;5;241m+\u001b[39m\u001b[38;5;241m=\u001b[39m \u001b[38;5;241m1\u001b[39m\n\u001b[1;32m   1913\u001b[0m \u001b[38;5;28mself\u001b[39m\u001b[38;5;241m.\u001b[39mn_dispatched_tasks \u001b[38;5;241m+\u001b[39m\u001b[38;5;241m=\u001b[39m \u001b[38;5;241m1\u001b[39m\n\u001b[0;32m-> 1914\u001b[0m res \u001b[38;5;241m=\u001b[39m \u001b[43mfunc\u001b[49m\u001b[43m(\u001b[49m\u001b[38;5;241;43m*\u001b[39;49m\u001b[43margs\u001b[49m\u001b[43m,\u001b[49m\u001b[43m \u001b[49m\u001b[38;5;241;43m*\u001b[39;49m\u001b[38;5;241;43m*\u001b[39;49m\u001b[43mkwargs\u001b[49m\u001b[43m)\u001b[49m\n\u001b[1;32m   1915\u001b[0m \u001b[38;5;28mself\u001b[39m\u001b[38;5;241m.\u001b[39mn_completed_tasks \u001b[38;5;241m+\u001b[39m\u001b[38;5;241m=\u001b[39m \u001b[38;5;241m1\u001b[39m\n\u001b[1;32m   1916\u001b[0m \u001b[38;5;28mself\u001b[39m\u001b[38;5;241m.\u001b[39mprint_progress()\n",
      "File \u001b[0;32m~/.local/lib/python3.12/site-packages/sklearn/utils/parallel.py:139\u001b[0m, in \u001b[0;36m_FuncWrapper.__call__\u001b[0;34m(self, *args, **kwargs)\u001b[0m\n\u001b[1;32m    137\u001b[0m     config \u001b[38;5;241m=\u001b[39m {}\n\u001b[1;32m    138\u001b[0m \u001b[38;5;28;01mwith\u001b[39;00m config_context(\u001b[38;5;241m*\u001b[39m\u001b[38;5;241m*\u001b[39mconfig):\n\u001b[0;32m--> 139\u001b[0m     \u001b[38;5;28;01mreturn\u001b[39;00m \u001b[38;5;28;43mself\u001b[39;49m\u001b[38;5;241;43m.\u001b[39;49m\u001b[43mfunction\u001b[49m\u001b[43m(\u001b[49m\u001b[38;5;241;43m*\u001b[39;49m\u001b[43margs\u001b[49m\u001b[43m,\u001b[49m\u001b[43m \u001b[49m\u001b[38;5;241;43m*\u001b[39;49m\u001b[38;5;241;43m*\u001b[39;49m\u001b[43mkwargs\u001b[49m\u001b[43m)\u001b[49m\n",
      "File \u001b[0;32m~/.local/lib/python3.12/site-packages/sklearn/ensemble/_forest.py:189\u001b[0m, in \u001b[0;36m_parallel_build_trees\u001b[0;34m(tree, bootstrap, X, y, sample_weight, tree_idx, n_trees, verbose, class_weight, n_samples_bootstrap, missing_values_in_feature_mask)\u001b[0m\n\u001b[1;32m    186\u001b[0m     \u001b[38;5;28;01melif\u001b[39;00m class_weight \u001b[38;5;241m==\u001b[39m \u001b[38;5;124m\"\u001b[39m\u001b[38;5;124mbalanced_subsample\u001b[39m\u001b[38;5;124m\"\u001b[39m:\n\u001b[1;32m    187\u001b[0m         curr_sample_weight \u001b[38;5;241m*\u001b[39m\u001b[38;5;241m=\u001b[39m compute_sample_weight(\u001b[38;5;124m\"\u001b[39m\u001b[38;5;124mbalanced\u001b[39m\u001b[38;5;124m\"\u001b[39m, y, indices\u001b[38;5;241m=\u001b[39mindices)\n\u001b[0;32m--> 189\u001b[0m     \u001b[43mtree\u001b[49m\u001b[38;5;241;43m.\u001b[39;49m\u001b[43m_fit\u001b[49m\u001b[43m(\u001b[49m\n\u001b[1;32m    190\u001b[0m \u001b[43m        \u001b[49m\u001b[43mX\u001b[49m\u001b[43m,\u001b[49m\n\u001b[1;32m    191\u001b[0m \u001b[43m        \u001b[49m\u001b[43my\u001b[49m\u001b[43m,\u001b[49m\n\u001b[1;32m    192\u001b[0m \u001b[43m        \u001b[49m\u001b[43msample_weight\u001b[49m\u001b[38;5;241;43m=\u001b[39;49m\u001b[43mcurr_sample_weight\u001b[49m\u001b[43m,\u001b[49m\n\u001b[1;32m    193\u001b[0m \u001b[43m        \u001b[49m\u001b[43mcheck_input\u001b[49m\u001b[38;5;241;43m=\u001b[39;49m\u001b[38;5;28;43;01mFalse\u001b[39;49;00m\u001b[43m,\u001b[49m\n\u001b[1;32m    194\u001b[0m \u001b[43m        \u001b[49m\u001b[43mmissing_values_in_feature_mask\u001b[49m\u001b[38;5;241;43m=\u001b[39;49m\u001b[43mmissing_values_in_feature_mask\u001b[49m\u001b[43m,\u001b[49m\n\u001b[1;32m    195\u001b[0m \u001b[43m    \u001b[49m\u001b[43m)\u001b[49m\n\u001b[1;32m    196\u001b[0m \u001b[38;5;28;01melse\u001b[39;00m:\n\u001b[1;32m    197\u001b[0m     tree\u001b[38;5;241m.\u001b[39m_fit(\n\u001b[1;32m    198\u001b[0m         X,\n\u001b[1;32m    199\u001b[0m         y,\n\u001b[0;32m   (...)\u001b[0m\n\u001b[1;32m    202\u001b[0m         missing_values_in_feature_mask\u001b[38;5;241m=\u001b[39mmissing_values_in_feature_mask,\n\u001b[1;32m    203\u001b[0m     )\n",
      "File \u001b[0;32m~/.local/lib/python3.12/site-packages/sklearn/tree/_classes.py:472\u001b[0m, in \u001b[0;36mBaseDecisionTree._fit\u001b[0;34m(self, X, y, sample_weight, check_input, missing_values_in_feature_mask)\u001b[0m\n\u001b[1;32m    461\u001b[0m \u001b[38;5;28;01melse\u001b[39;00m:\n\u001b[1;32m    462\u001b[0m     builder \u001b[38;5;241m=\u001b[39m BestFirstTreeBuilder(\n\u001b[1;32m    463\u001b[0m         splitter,\n\u001b[1;32m    464\u001b[0m         min_samples_split,\n\u001b[0;32m   (...)\u001b[0m\n\u001b[1;32m    469\u001b[0m         \u001b[38;5;28mself\u001b[39m\u001b[38;5;241m.\u001b[39mmin_impurity_decrease,\n\u001b[1;32m    470\u001b[0m     )\n\u001b[0;32m--> 472\u001b[0m \u001b[43mbuilder\u001b[49m\u001b[38;5;241;43m.\u001b[39;49m\u001b[43mbuild\u001b[49m\u001b[43m(\u001b[49m\u001b[38;5;28;43mself\u001b[39;49m\u001b[38;5;241;43m.\u001b[39;49m\u001b[43mtree_\u001b[49m\u001b[43m,\u001b[49m\u001b[43m \u001b[49m\u001b[43mX\u001b[49m\u001b[43m,\u001b[49m\u001b[43m \u001b[49m\u001b[43my\u001b[49m\u001b[43m,\u001b[49m\u001b[43m \u001b[49m\u001b[43msample_weight\u001b[49m\u001b[43m,\u001b[49m\u001b[43m \u001b[49m\u001b[43mmissing_values_in_feature_mask\u001b[49m\u001b[43m)\u001b[49m\n\u001b[1;32m    474\u001b[0m \u001b[38;5;28;01mif\u001b[39;00m \u001b[38;5;28mself\u001b[39m\u001b[38;5;241m.\u001b[39mn_outputs_ \u001b[38;5;241m==\u001b[39m \u001b[38;5;241m1\u001b[39m \u001b[38;5;129;01mand\u001b[39;00m is_classifier(\u001b[38;5;28mself\u001b[39m):\n\u001b[1;32m    475\u001b[0m     \u001b[38;5;28mself\u001b[39m\u001b[38;5;241m.\u001b[39mn_classes_ \u001b[38;5;241m=\u001b[39m \u001b[38;5;28mself\u001b[39m\u001b[38;5;241m.\u001b[39mn_classes_[\u001b[38;5;241m0\u001b[39m]\n",
      "\u001b[0;31mKeyboardInterrupt\u001b[0m: "
     ]
    }
   ],
   "source": [
    "rf_untuned = Pipeline(\n",
    "    [(\"clf\", FraudDetector(\"oversample\"))]\n",
    ")\n",
    "\n",
    "rf_untuned.fit(X_train, y_train)\n",
    "\n",
    "rf_untuned_train = rf_untuned.predict(X_train) # We have to measure train performance manually\n",
    "rf_untuned_val = rf_untuned.predict(X_val) "
   ]
  },
  {
   "cell_type": "code",
   "execution_count": 112,
   "id": "ec714094-b340-435d-a272-5374d7c58228",
   "metadata": {
    "execution": {
     "iopub.execute_input": "2025-09-18T01:33:50.949014Z",
     "iopub.status.busy": "2025-09-18T01:33:50.948293Z",
     "iopub.status.idle": "2025-09-18T01:33:51.073339Z",
     "shell.execute_reply": "2025-09-18T01:33:51.072341Z",
     "shell.execute_reply.started": "2025-09-18T01:33:50.948952Z"
    }
   },
   "outputs": [
    {
     "name": "stdout",
     "output_type": "stream",
     "text": [
      "==========Undersampling==========\n",
      "Training F1 Score: 0.1069\n",
      "Validation Set performance:\n",
      "               precision    recall  f1-score   support\n",
      "\n",
      "           0       1.00      0.97      0.99     36961\n",
      "           1       0.06      0.94      0.11        64\n",
      "\n",
      "    accuracy                           0.97     37025\n",
      "   macro avg       0.53      0.96      0.55     37025\n",
      "weighted avg       1.00      0.97      0.98     37025\n",
      "\n",
      "Validation Set Confusion Matrix:\n",
      "        0     1\n",
      "0  35945  1016\n",
      "1      4    60\n"
     ]
    }
   ],
   "source": [
    "print(\"==========Undersampling==========\")\n",
    "print(f\"Training F1 Score: {f1_score(y_train, rf_untuned_train):.4f}\")\n",
    "\n",
    "print(\"Validation Set performance:\\n\", classification_report(y_val, rf_untuned_val))\n",
    "print(\"Validation Set Confusion Matrix:\\n\", pd.DataFrame(confusion_matrix(y_val, rf_untuned_val)))"
   ]
  },
  {
   "cell_type": "code",
   "execution_count": null,
   "id": "48a07fb8-b60a-4ef3-a8c2-f828f017b009",
   "metadata": {},
   "outputs": [],
   "source": []
  }
 ],
 "metadata": {
  "kernelspec": {
   "display_name": "Python [conda env:base] *",
   "language": "python",
   "name": "conda-base-py"
  },
  "language_info": {
   "codemirror_mode": {
    "name": "ipython",
    "version": 3
   },
   "file_extension": ".py",
   "mimetype": "text/x-python",
   "name": "python",
   "nbconvert_exporter": "python",
   "pygments_lexer": "ipython3",
   "version": "3.12.8"
  }
 },
 "nbformat": 4,
 "nbformat_minor": 5
}
