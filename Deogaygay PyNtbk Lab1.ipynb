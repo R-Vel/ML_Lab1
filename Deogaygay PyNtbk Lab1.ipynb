{
 "cells": [
  {
   "cell_type": "code",
   "execution_count": 7,
   "id": "74e0656d",
   "metadata": {},
   "outputs": [],
   "source": [
    "from typing import Iterable, Optional, Union, Tuple\n",
    "\n",
    "import numpy as np\n",
    "import pandas as pd\n",
    "from sklearn.base import BaseEstimator, ClassifierMixin\n",
    "from sklearn.ensemble import RandomForestClassifier\n",
    "from sklearn.preprocessing import MinMaxScaler\n",
    "from sklearn.utils.validation import check_is_fitted\n",
    "from imblearn.over_sampling import SMOTE\n",
    "\n",
    "\n",
    "class FraudDetector(BaseEstimator, ClassifierMixin):\n",
    "\n",
    "    def __init__(self, random_state: int = 39, n_jobs: Optional[int] = None):\n",
    "        self.random_state = random_state\n",
    "        self.n_jobs = n_jobs\n",
    "        self._model_ = RandomForestClassifier(\n",
    "            n_estimators=500,\n",
    "            n_jobs=self.n_jobs,\n",
    "            random_state=self.random_state,\n",
    "        )\n",
    "        self._scaler_ = MinMaxScaler()  # store scaler for re-use on predict\n",
    "\n",
    "    def fit(\n",
    "        self,\n",
    "        X: Union[np.ndarray, pd.DataFrame],\n",
    "        y: Union[np.ndarray, pd.Series],\n",
    "        sample_weight: Optional[Iterable[float]] = None,\n",
    "    ):\n",
    "        \"\"\"\n",
    "        Fit the model using a training X and y.\n",
    "\n",
    "        Parameters\n",
    "        ----------\n",
    "        X : np.ndarray | pd.DataFrame\n",
    "            The training data.\n",
    "        y : np.ndarray | pd.Series\n",
    "            The corresponding targets.\n",
    "        sample_weight : iterable, optional\n",
    "            Sample class weights (default=None).\n",
    "        \"\"\"\n",
    "\n",
    "        # Preprocess (scales 'amount' column if present)\n",
    "        X_preprocessed = self._preprocess(X, fit=True)\n",
    "\n",
    "        # Handle imbalance\n",
    "        X_balanced, y_balanced = self._handle_imbalance(X_preprocessed, y)\n",
    "\n",
    "        # Fit model\n",
    "        if sample_weight is None:\n",
    "            self._model_.fit(X_balanced, y_balanced)\n",
    "        else:\n",
    "            self._model_.fit(X_balanced, y_balanced, sample_weight=sample_weight)\n",
    "        return self\n",
    "\n",
    "    def predict(self, X: Union[np.ndarray, pd.DataFrame]) -> np.ndarray:\n",
    "        \"\"\"Predict the outcome from data X.\"\"\"\n",
    "        check_is_fitted(self, \"_model_\")\n",
    "        X_preprocessed = self._preprocess(X, fit=False)\n",
    "        return self._model_.predict(X_preprocessed)\n",
    "\n",
    "    def fit_predict(\n",
    "        self, X: Union[np.ndarray, pd.DataFrame], y: Union[np.ndarray, pd.Series]\n",
    "    ) -> np.ndarray:\n",
    "        \"\"\"\n",
    "        Fit the model using a training X and y, and predict the outcome using X.\n",
    "        Note that this would give the predicted labels during training.\n",
    "        \"\"\"\n",
    "        return self.fit(X, y).predict(X)\n",
    "\n",
    "    def _preprocess(\n",
    "        self,\n",
    "        X: Union[np.ndarray, pd.DataFrame],\n",
    "        fit: bool = True\n",
    "    ) -> Union[np.ndarray, pd.DataFrame]:\n",
    "        \"\"\"\n",
    "        Preprocess the data (scale 'amount' column using MinMaxScaler).\n",
    "\n",
    "        Parameters\n",
    "        ----------\n",
    "        X : np.ndarray | pd.DataFrame\n",
    "            Feature matrix.\n",
    "        fit : bool\n",
    "            If True, fit the scaler. If False, just transform using stored scaler.\n",
    "\n",
    "        Returns\n",
    "        -------\n",
    "        X_out : np.ndarray | pd.DataFrame\n",
    "            Preprocessed feature matrix.\n",
    "        \"\"\"\n",
    "        if isinstance(X, pd.DataFrame) and \"amount\" in X.columns:\n",
    "            X_copy = X.copy()\n",
    "            if fit:\n",
    "                X_copy[\"amount\"] = self._scaler_.fit_transform(X_copy[[\"amount\"]])\n",
    "            else:\n",
    "                X_copy[\"amount\"] = self._scaler_.transform(X_copy[[\"amount\"]])\n",
    "            return X_copy\n",
    "        return X  # return unchanged if not DataFrame or no 'amount' col\n",
    "\n",
    "    def _handle_imbalance(\n",
    "        self,\n",
    "        X: Union[np.ndarray, pd.DataFrame],\n",
    "        y: Union[np.ndarray, pd.Series]\n",
    "    ) -> Tuple[Union[np.ndarray, pd.DataFrame], Union[np.ndarray, pd.Series]]:\n",
    "        \"\"\"\n",
    "        Handle class imbalance using SMOTE.\n",
    "\n",
    "        Parameters\n",
    "        ----------\n",
    "        X : np.ndarray | pd.DataFrame\n",
    "            The feature matrix.\n",
    "        y : np.ndarray | pd.Series\n",
    "            The target labels.\n",
    "\n",
    "        Returns\n",
    "        -------\n",
    "        X_resampled : np.ndarray | pd.DataFrame\n",
    "            The resampled feature matrix.\n",
    "        y_resampled : np.ndarray | pd.Series\n",
    "            The resampled target labels.\n",
    "        \"\"\"\n",
    "        smote = SMOTE(random_state=self.random_state)\n",
    "        X_resampled, y_resampled = smote.fit_resample(X, y)\n",
    "        return X_resampled, y_resampled\n",
    "\n"
   ]
  },
  {
   "cell_type": "code",
   "execution_count": 8,
   "id": "d3fb5aba",
   "metadata": {},
   "outputs": [
    {
     "name": "stdout",
     "output_type": "stream",
     "text": [
      "Loaded: (185124, 31)\n",
      "Columns: ['tid', 'V1', 'V2', 'V3', 'V4', 'V5', 'V6', 'V7', 'V8', 'V9', 'V10', 'V11', 'V12', 'V13', 'V14', 'V15', 'V16', 'V17', 'V18', 'V19', 'V20', 'V21', 'V22', 'V23', 'V24', 'V25', 'V26', 'V27', 'V28', 'Amount', 'outcome']\n"
     ]
    }
   ],
   "source": [
    "\n",
    "import pandas as pd\n",
    "\n",
    "TARGET_COL = \"outcome\"  # <- change this if your target column is named differently\n",
    "\n",
    "df = pd.read_csv(\"historical.csv\")\n",
    "print(\"Loaded:\", df.shape)\n",
    "print(\"Columns:\", list(df.columns))\n"
   ]
  },
  {
   "cell_type": "code",
   "execution_count": 12,
   "id": "966741f1",
   "metadata": {},
   "outputs": [],
   "source": [
    "df = df.drop(columns=\"tid\")\n",
    "\n",
    "X = df.drop(columns=[TARGET_COL])\n",
    "y = df[TARGET_COL]"
   ]
  },
  {
   "cell_type": "code",
   "execution_count": 13,
   "id": "2000cac7",
   "metadata": {},
   "outputs": [
    {
     "name": "stdout",
     "output_type": "stream",
     "text": [
      "Train shape: (148099, 29) Test shape: (37025, 29)\n"
     ]
    }
   ],
   "source": [
    "# Cell 4 — Train / test split\n",
    "from sklearn.model_selection import train_test_split\n",
    "\n",
    "X_train, X_test, y_train, y_test = train_test_split(\n",
    "    X, y,\n",
    "    test_size=0.2,\n",
    "    random_state=42,\n",
    "    stratify=y\n",
    ")\n",
    "\n",
    "print(\"Train shape:\", X_train.shape, \"Test shape:\", X_test.shape)\n"
   ]
  },
  {
   "cell_type": "code",
   "execution_count": 14,
   "id": "3570371a",
   "metadata": {},
   "outputs": [
    {
     "name": "stdout",
     "output_type": "stream",
     "text": [
      "Model trained\n"
     ]
    }
   ],
   "source": [
    "# Cell 5 — Initialize and train the FraudDetector\n",
    "model = FraudDetector(random_state=42, n_jobs=-1)\n",
    "model.fit(X_train, y_train)\n",
    "print(\"Model trained\")\n"
   ]
  },
  {
   "cell_type": "code",
   "execution_count": 15,
   "id": "8b520992",
   "metadata": {},
   "outputs": [
    {
     "name": "stdout",
     "output_type": "stream",
     "text": [
      "Predictions done. Number of predictions: 37025\n"
     ]
    }
   ],
   "source": [
    "# Cell 6 — Predict on test set\n",
    "y_pred = model.predict(X_test)\n",
    "print(\"Predictions done. Number of predictions:\", len(y_pred))\n"
   ]
  },
  {
   "cell_type": "code",
   "execution_count": 16,
   "id": "84e14003",
   "metadata": {},
   "outputs": [
    {
     "name": "stdout",
     "output_type": "stream",
     "text": [
      "Precision: 0.8868\n",
      "Recall:    0.7344\n",
      "F1 Score:  0.8034\n",
      "\n",
      "Classification report:\n",
      "              precision    recall  f1-score   support\n",
      "\n",
      "           0       1.00      1.00      1.00     36961\n",
      "           1       0.89      0.73      0.80        64\n",
      "\n",
      "    accuracy                           1.00     37025\n",
      "   macro avg       0.94      0.87      0.90     37025\n",
      "weighted avg       1.00      1.00      1.00     37025\n",
      "\n",
      "Confusion matrix:\n",
      "[[36955     6]\n",
      " [   17    47]]\n"
     ]
    }
   ],
   "source": [
    "# Cell 7 — Evaluate: precision, recall, f1-score\n",
    "from sklearn.metrics import precision_score, recall_score, f1_score, classification_report, confusion_matrix\n",
    "\n",
    "# use zero_division=0 to avoid errors/warnings if a class is not predicted at all\n",
    "precision = precision_score(y_test, y_pred, zero_division=0)\n",
    "recall = recall_score(y_test, y_pred, zero_division=0)\n",
    "f1 = f1_score(y_test, y_pred, zero_division=0)\n",
    "\n",
    "print(f\"Precision: {precision:.4f}\")\n",
    "print(f\"Recall:    {recall:.4f}\")\n",
    "print(f\"F1 Score:  {f1:.4f}\")\n",
    "\n",
    "# Optional: more detailed view\n",
    "print(\"\\nClassification report:\")\n",
    "print(classification_report(y_test, y_pred, zero_division=0))\n",
    "print(\"Confusion matrix:\")\n",
    "print(confusion_matrix(y_test, y_pred))\n"
   ]
  },
  {
   "cell_type": "markdown",
   "id": "722ef06d",
   "metadata": {},
   "source": [
    "Precision: 0.8868\n",
    "Recall:    0.7344\n",
    "F1 Score:  0.8034"
   ]
  },
  {
   "cell_type": "markdown",
   "id": "c4932b53",
   "metadata": {},
   "source": []
  }
 ],
 "metadata": {
  "kernelspec": {
   "display_name": "Python 3",
   "language": "python",
   "name": "python3"
  },
  "language_info": {
   "codemirror_mode": {
    "name": "ipython",
    "version": 3
   },
   "file_extension": ".py",
   "mimetype": "text/x-python",
   "name": "python",
   "nbconvert_exporter": "python",
   "pygments_lexer": "ipython3",
   "version": "3.13.7"
  }
 },
 "nbformat": 4,
 "nbformat_minor": 5
}
